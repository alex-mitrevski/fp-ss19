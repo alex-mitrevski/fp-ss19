{
 "cells": [
  {
   "cell_type": "markdown",
   "metadata": {},
   "source": [
    "# Functional Programming SS19\n",
    "\n",
    "# Assignment 02 Solutions"
   ]
  },
  {
   "cell_type": "markdown",
   "metadata": {},
   "source": [
    "## Exercise 1\n",
    "\n",
    "In this exercise we consider priority queues storing arbitrary data."
   ]
  },
  {
   "cell_type": "markdown",
   "metadata": {},
   "source": [
    "### 1a)\n",
    "\n",
    "*Give a definition for a data type `PriorityQueue` for priority queues storing data of arbitrary type. The type `PriorityQueue` should have the two constructors: `Push`, for inserting an element with a priority of type `Int` into the priority queue, and `EmptyQueue`, for the empty queue. Furthermore, define a variable `p` of type `PriorityQueue Int` reflecting the queue as shown in Fig. 1.*\n",
    "\n",
    "![priority_queue](figures/priority_queue.png)"
   ]
  },
  {
   "cell_type": "code",
   "execution_count": 1,
   "metadata": {},
   "outputs": [],
   "source": [
    "data PriorityQueue a = EmptyQueue | Push a Int (PriorityQueue a) deriving Show"
   ]
  },
  {
   "cell_type": "code",
   "execution_count": 2,
   "metadata": {
    "scrolled": true
   },
   "outputs": [],
   "source": [
    "p :: PriorityQueue Int\n",
    "p = Push 11 1 (Push 5 3 (Push 5 0 (Push 9 (-1) (Push 7 3 (Push 8 (-3) EmptyQueue)))))"
   ]
  },
  {
   "cell_type": "code",
   "execution_count": 3,
   "metadata": {},
   "outputs": [
    {
     "data": {
      "text/plain": [
       "Push 11 1 (Push 5 3 (Push 5 0 (Push 9 (-1) (Push 7 3 (Push 8 (-3) EmptyQueue)))))"
      ]
     },
     "metadata": {},
     "output_type": "display_data"
    }
   ],
   "source": [
    "p"
   ]
  },
  {
   "cell_type": "markdown",
   "metadata": {},
   "source": [
    "### 1b)\n",
    "\n",
    "*Write a function `isWaiting` that gets an element of type `a` and a queue of type `PriorityQueue a` and returns `True` if and only if the element is stored in the queue. For example, `isWaiting 5 p == True` and `isWaiting 6 p == False`. The function should be applicable for as many types `a` as possible.*\n",
    "\n",
    "*Hints: Remember that the predefined type class `Eq` contains all types providing the equality operator ==.*"
   ]
  },
  {
   "cell_type": "code",
   "execution_count": 4,
   "metadata": {},
   "outputs": [],
   "source": [
    "{-|\n",
    "  Returns True if an element m is contained\n",
    "  in a given priority queue; returns False otherwise.\n",
    "-}\n",
    "isWaiting :: Eq a => a -> PriorityQueue a -> Bool\n",
    "isWaiting m EmptyQueue = False\n",
    "isWaiting m (Push x _ q) | m == x = True\n",
    "                         | otherwise = isWaiting m q"
   ]
  },
  {
   "cell_type": "markdown",
   "metadata": {},
   "source": [
    "#### Test cases"
   ]
  },
  {
   "cell_type": "code",
   "execution_count": 5,
   "metadata": {
    "scrolled": false
   },
   "outputs": [
    {
     "data": {
      "text/plain": [
       "True"
      ]
     },
     "metadata": {},
     "output_type": "display_data"
    }
   ],
   "source": [
    "isWaiting 5 p"
   ]
  },
  {
   "cell_type": "code",
   "execution_count": 6,
   "metadata": {},
   "outputs": [
    {
     "data": {
      "text/plain": [
       "False"
      ]
     },
     "metadata": {},
     "output_type": "display_data"
    }
   ],
   "source": [
    "isWaiting 6 p"
   ]
  },
  {
   "cell_type": "markdown",
   "metadata": {},
   "source": [
    "### 1c)\n",
    "\n",
    "*Write a function `fromList` that given a list of type `[(a,Int)]` computes a priority queue of type `PriorityQueue a` such that for every element `(x,n)` of the list the resulting queue contains the element `x` with priority `n`. For example, `fromList [(11,1), (5,3), (5,0), (9,-1), (7,3), (8,-3)]` should yield an expression of type `PriorityQueue Int` as in Fig. 1.*"
   ]
  },
  {
   "cell_type": "code",
   "execution_count": 7,
   "metadata": {},
   "outputs": [],
   "source": [
    "{-|\n",
    "  Creates a PriorityQueue instance from a list\n",
    "  of (x, p) tuples, where x is an element and\n",
    "  p is its priority.\n",
    "-}\n",
    "fromList :: [(a,Int)] -> PriorityQueue a\n",
    "fromList [] = EmptyQueue\n",
    "fromList ((x,p):xs) = Push x p (fromList xs)"
   ]
  },
  {
   "cell_type": "markdown",
   "metadata": {},
   "source": [
    "#### Test cases"
   ]
  },
  {
   "cell_type": "code",
   "execution_count": 8,
   "metadata": {
    "scrolled": true
   },
   "outputs": [
    {
     "data": {
      "text/plain": [
       "Push 11 1 (Push 5 3 (Push 5 0 (Push 9 (-1) (Push 7 3 (Push 8 (-3) EmptyQueue)))))"
      ]
     },
     "metadata": {},
     "output_type": "display_data"
    }
   ],
   "source": [
    "fromList [(11,1), (5,3), (5,0), (9,-1), (7,3), (8,-3)]"
   ]
  },
  {
   "cell_type": "code",
   "execution_count": 9,
   "metadata": {},
   "outputs": [
    {
     "data": {
      "text/plain": [
       "EmptyQueue"
      ]
     },
     "metadata": {},
     "output_type": "display_data"
    }
   ],
   "source": [
    "fromList []"
   ]
  },
  {
   "cell_type": "code",
   "execution_count": 10,
   "metadata": {},
   "outputs": [
    {
     "data": {
      "text/plain": [
       "Push 1 1 (Push 2 2 (Push 3 3 EmptyQueue))"
      ]
     },
     "metadata": {},
     "output_type": "display_data"
    }
   ],
   "source": [
    "fromList [(1,1), (2,2), (3,3)]"
   ]
  },
  {
   "cell_type": "markdown",
   "metadata": {},
   "source": [
    "### 1d)\n",
    "\n",
    "*Write a function `pop` that given a nonempty priority queue `queue` returns a pair `(x,q)` where the first entry `x` is the value with highest priority in `queue` and the second entry `q` is `queue` where the element with value `x` and the highest priority is deleted. For example `pop p` should yield a pair `(5,q)`, where `q::PriorityQueue Int` corresponds to the queue given in Fig. 2.*\n",
    "\n",
    "![reduced_priority_queue](figures/reduced_priority_queue.png)\n",
    "\n",
    "*Hints:*\n",
    "\n",
    "* *If `x` occurs several times with the highest priority in queue, then only one of the corresponding elements should be deleted in `q`.*\n",
    "* *If `queue` contains several values with the highest priority, then your implementation should choose one of them. So `pop p` could also yield `(7,q')`, where `q'` results from `p` by deleting the element with value `7` and priority `3`.*\n",
    "* *You may need `minBound :: Int`, the smallest `Int`, and `max :: Int -> Int -> Int`.*"
   ]
  },
  {
   "cell_type": "code",
   "execution_count": 11,
   "metadata": {},
   "outputs": [],
   "source": [
    "-- Note: A potential limitation of the current solution is that\n",
    "-- the queue is assumed to only store bounded numeric values\n",
    "\n",
    "getmaxP :: Num a => Bounded a => PriorityQueue a -> Int -> (a, Int, Int)\n",
    "getmaxP EmptyQueue _ = (-1, minBound, -1)\n",
    "getmaxP (Push x p q) currIdx = (newX, newP, newIdx)\n",
    "                               where (maxX, maxP, maxIdx) = getmaxP q (currIdx+1)\n",
    "                                     newP = max p maxP\n",
    "                                     newIdx | newMaxPFound = currIdx\n",
    "                                            | otherwise = maxIdx\n",
    "                                     newX | newMaxPFound = x\n",
    "                                          | otherwise = maxX\n",
    "                                     newMaxPFound = p >= maxP\n",
    "\n",
    "{-|\n",
    "  Returns a priority queue with the element at a given index\n",
    "  removed from the given queue.\n",
    "-}\n",
    "rmAt :: PriorityQueue a -> Int -> Int -> PriorityQueue a\n",
    "rmAt EmptyQueue _ _ = EmptyQueue\n",
    "rmAt (Push x p q) i currIdx | i == currIdx = rmAt q i (currIdx+1)\n",
    "                            | otherwise = Push x p (rmAt q i (currIdx+1))\n",
    "\n",
    "{-|\n",
    "  Removes a tuple of the form (x, q), where x is the element\n",
    "  with highest priority in the given queue and q is the given\n",
    "  queue without the element with highest priority.\n",
    "-}\n",
    "pop :: Num a => Bounded a => PriorityQueue a -> (a, PriorityQueue a)\n",
    "pop EmptyQueue = (minBound, EmptyQueue)\n",
    "pop q = (maxX, updatedQ)\n",
    "        where (maxX, _, maxIdx) = getmaxP q 0\n",
    "              updatedQ = rmAt q maxIdx 0"
   ]
  },
  {
   "cell_type": "markdown",
   "metadata": {},
   "source": [
    "#### Test cases"
   ]
  },
  {
   "cell_type": "code",
   "execution_count": 12,
   "metadata": {},
   "outputs": [],
   "source": [
    "(x, newP) = pop p"
   ]
  },
  {
   "cell_type": "code",
   "execution_count": 13,
   "metadata": {},
   "outputs": [
    {
     "data": {
      "text/plain": [
       "5"
      ]
     },
     "metadata": {},
     "output_type": "display_data"
    }
   ],
   "source": [
    "x"
   ]
  },
  {
   "cell_type": "code",
   "execution_count": 14,
   "metadata": {},
   "outputs": [
    {
     "data": {
      "text/plain": [
       "Push 11 1 (Push 5 0 (Push 9 (-1) (Push 7 3 (Push 8 (-3) EmptyQueue))))"
      ]
     },
     "metadata": {},
     "output_type": "display_data"
    }
   ],
   "source": [
    "newP"
   ]
  },
  {
   "cell_type": "markdown",
   "metadata": {},
   "source": [
    "### 1e)\n",
    "\n",
    "*Write a function `toList` that given a `PriorityQueue` returns a list containing the values from the queue sorted in decreasing priority. For example, `toList p == [5,7,11,5,9,8]`.*"
   ]
  },
  {
   "cell_type": "code",
   "execution_count": 15,
   "metadata": {},
   "outputs": [],
   "source": [
    "{-|\n",
    "  Returns the elements in a PriorityQueue\n",
    "  in a list format, such that the list entries\n",
    "  are obtained by sorting the elements'\n",
    "  priorities in descending order.\n",
    "-}\n",
    "toList :: Num a => Bounded a => PriorityQueue a -> [a]\n",
    "toList EmptyQueue = []\n",
    "toList q = x : toList reducedQ\n",
    "           where (x, reducedQ) = pop q"
   ]
  },
  {
   "cell_type": "markdown",
   "metadata": {},
   "source": [
    "#### Test cases"
   ]
  },
  {
   "cell_type": "code",
   "execution_count": 16,
   "metadata": {},
   "outputs": [
    {
     "data": {
      "text/plain": [
       "[5,7,11,5,9,8]"
      ]
     },
     "metadata": {},
     "output_type": "display_data"
    }
   ],
   "source": [
    "-- the example from the exercise description\n",
    "toList p"
   ]
  },
  {
   "cell_type": "markdown",
   "metadata": {},
   "source": [
    "## Exercise 2"
   ]
  },
  {
   "cell_type": "markdown",
   "metadata": {},
   "source": [
    "### 2a)\n",
    "\n",
    "*Consider the type `List a` from the lecture that is defined as follows:*\n",
    "\n",
    "```\n",
    "data List a = Nil | Cons a (List a) deriving Show\n",
    "```\n",
    "\n",
    "*Declare `List a` as an instance of the type class `Eq` whenever `a` is an instance of `Eq`. Implement the method (==) such that it computes equality between lists entrywise.*"
   ]
  },
  {
   "cell_type": "code",
   "execution_count": 17,
   "metadata": {},
   "outputs": [],
   "source": [
    "data List a = Nil | Cons a (List a) deriving Show"
   ]
  },
  {
   "cell_type": "code",
   "execution_count": 18,
   "metadata": {},
   "outputs": [],
   "source": [
    "instance Eq a => Eq (List a) where\n",
    "    (==) Nil Nil = True\n",
    "    (==) Nil _ = False\n",
    "    (==) _ Nil = False\n",
    "    (==) (Cons x l1) (Cons y l2) | x /= y = False\n",
    "                                 | otherwise = l1 == l2"
   ]
  },
  {
   "cell_type": "markdown",
   "metadata": {},
   "source": [
    "#### Test cases"
   ]
  },
  {
   "cell_type": "code",
   "execution_count": 19,
   "metadata": {},
   "outputs": [
    {
     "data": {
      "text/plain": [
       "True"
      ]
     },
     "metadata": {},
     "output_type": "display_data"
    }
   ],
   "source": [
    "-- we verify the equality function with two equivalent lists\n",
    "x = Cons 1 (Cons 2 (Cons 3 (Nil)))\n",
    "y = Cons 1 (Cons 2 (Cons 3 (Nil)))\n",
    "x == y"
   ]
  },
  {
   "cell_type": "code",
   "execution_count": 20,
   "metadata": {
    "scrolled": true
   },
   "outputs": [
    {
     "data": {
      "text/plain": [
       "False"
      ]
     },
     "metadata": {},
     "output_type": "display_data"
    }
   ],
   "source": [
    "-- we verify the equality function with two different lists\n",
    "-- (same elements as above, but in different order)\n",
    "x = Cons 1 (Cons 2 (Cons 3 (Nil)))\n",
    "y = Cons 3 (Cons 2 (Cons 1 (Nil)))\n",
    "x == y"
   ]
  },
  {
   "cell_type": "code",
   "execution_count": 21,
   "metadata": {},
   "outputs": [
    {
     "data": {
      "text/plain": [
       "False"
      ]
     },
     "metadata": {},
     "output_type": "display_data"
    }
   ],
   "source": [
    "-- another test with a different order\n",
    "-- of the list elements\n",
    "x = Cons 1 (Cons 2 (Cons 3 (Nil)))\n",
    "y = Cons 1 (Cons 3 (Cons 2 (Nil)))\n",
    "x == y"
   ]
  },
  {
   "cell_type": "code",
   "execution_count": 22,
   "metadata": {},
   "outputs": [
    {
     "data": {
      "text/plain": [
       "False"
      ]
     },
     "metadata": {},
     "output_type": "display_data"
    }
   ],
   "source": [
    "-- we verify that two lists with\n",
    "-- different lenghts are not equal\n",
    "x = Cons 1 (Cons 2 (Cons 3 (Nil)))\n",
    "y = Cons 1 (Cons 2 (Nil))\n",
    "x == y"
   ]
  },
  {
   "cell_type": "code",
   "execution_count": 23,
   "metadata": {},
   "outputs": [
    {
     "data": {
      "text/plain": [
       "True"
      ]
     },
     "metadata": {},
     "output_type": "display_data"
    }
   ],
   "source": [
    "-- we verify that two empty lists are equal\n",
    "x = Nil\n",
    "y = Nil\n",
    "x == y"
   ]
  },
  {
   "cell_type": "markdown",
   "metadata": {},
   "source": [
    "### 2b)\n",
    "\n",
    "*Give a declaration for a type class `Mono` for monoids as a subclass of `Eq` with the following methods:*\n",
    "* *`binOp :: a -> a -> a` (for \"binary operation\").*\n",
    "* *`one :: a` (the neutral element of the monoid).*\n",
    "* *`pow :: Word -> a -> a` (for \"power)\"). `Word` is the predefined type for nonnegative integers. Here, for an object `x` of type `a` and a number `n :: Word` the expression `pow n x` should stand for `binOp x (binOp x ...(binOp x one))` with `n` occurences of `binOp`. So `pow x 0 == one`.*\n",
    "\n",
    "*The class declaration should contain a default implementation for `pow`. In contrast, the functions `binOp` and `one` have to be implemented in the instances of the type class `Mono`.*"
   ]
  },
  {
   "cell_type": "code",
   "execution_count": 24,
   "metadata": {},
   "outputs": [],
   "source": [
    "class Eq a => Mono a where\n",
    "    binOp :: a -> a -> a\n",
    "    one :: a\n",
    "\n",
    "    pow :: Word -> a -> a\n",
    "    pow 0 x = one\n",
    "    pow n x = binOp x (pow (n-1) x)"
   ]
  },
  {
   "cell_type": "markdown",
   "metadata": {},
   "source": [
    "### 2c)\n",
    "\n",
    "*Declare the built-in type `Integer` and `List a` from a) as instances of the type class `Mono` for as many types `a` as possible. For `Integer` the binary operation should be (&#42;) and the neutral element is 1. For `List a` the binary operation is concatenation of the lists where the empty list is the neutral element. For example `binOp (-3) 2 = -6` and `binOp (Cons 'a' Nil) (Cons 'b' (Cons 'c' Nil)) = Cons 'a' (Cons 'b' (Cons 'c' Nil))`.*"
   ]
  },
  {
   "cell_type": "code",
   "execution_count": 25,
   "metadata": {},
   "outputs": [],
   "source": [
    "instance Mono Integer where\n",
    "    one = 1\n",
    "    binOp x y = x * y"
   ]
  },
  {
   "cell_type": "code",
   "execution_count": 26,
   "metadata": {},
   "outputs": [],
   "source": [
    "instance Eq a => Mono (List a) where\n",
    "    one = Nil\n",
    "\n",
    "    binOp Nil xs = xs\n",
    "    binOp xs Nil = xs\n",
    "    binOp (Cons x xs) ys = Cons x (binOp xs ys)"
   ]
  },
  {
   "cell_type": "markdown",
   "metadata": {},
   "source": [
    "#### Test cases"
   ]
  },
  {
   "cell_type": "code",
   "execution_count": 27,
   "metadata": {
    "scrolled": false
   },
   "outputs": [
    {
     "data": {
      "text/plain": [
       "-6"
      ]
     },
     "metadata": {},
     "output_type": "display_data"
    }
   ],
   "source": [
    "binOp (-3) 2"
   ]
  },
  {
   "cell_type": "code",
   "execution_count": 28,
   "metadata": {},
   "outputs": [
    {
     "data": {
      "text/plain": [
       "Cons 'a' (Cons 'b' (Cons 'c' Nil))"
      ]
     },
     "metadata": {},
     "output_type": "display_data"
    }
   ],
   "source": [
    "binOp (Cons 'a' Nil) (Cons 'b' (Cons 'c' Nil))"
   ]
  },
  {
   "cell_type": "code",
   "execution_count": 29,
   "metadata": {},
   "outputs": [
    {
     "data": {
      "text/plain": [
       "Cons 'b' (Cons 'c' (Cons 'a' Nil))"
      ]
     },
     "metadata": {},
     "output_type": "display_data"
    }
   ],
   "source": [
    "binOp (Cons 'b' (Cons 'c' Nil)) (Cons 'a' Nil)"
   ]
  },
  {
   "cell_type": "markdown",
   "metadata": {},
   "source": [
    "### 2d)\n",
    "\n",
    "*For any monoid `a`, implement a function `multiply` that given a list of type `[(Word,a)]` multiplies the powers of the pairs from the list, i.e., `multiply [(x 1 ,y 1 ),(x 2 ,y 2 ),...,(x n ,y n )] == binOp (pow x 1 y 1 ) (binOp (pow x 2 y 2 ) (binOp ...(binOp (pow x n y n ) one)))`. The empty product `multiply []` is defined to be the neutral element of the monoid `a`.*\n",
    "\n",
    "*For example `multiply [(3,Cons 'a' Nil),(1,Cons 'b' Nil),(2,Cons 'c' (Cons 'd' Nil))] == Cons 'a' (Cons 'a' (Cons 'a' (Cons 'b' (Cons 'c' (Cons 'd' (Cons 'c' (Cons 'd' Nil)))))))`.*"
   ]
  },
  {
   "cell_type": "code",
   "execution_count": 30,
   "metadata": {},
   "outputs": [],
   "source": [
    "multiply :: Mono a => [(Word, a)] -> a\n",
    "multiply [] = one\n",
    "multiply ((x1, y1):xs) = binOp (pow x1 y1) (multiply xs)"
   ]
  },
  {
   "cell_type": "markdown",
   "metadata": {},
   "source": [
    "#### Test cases"
   ]
  },
  {
   "cell_type": "code",
   "execution_count": 31,
   "metadata": {},
   "outputs": [
    {
     "data": {
      "text/plain": [
       "Cons 'a' (Cons 'a' (Cons 'a' (Cons 'b' (Cons 'c' (Cons 'd' (Cons 'c' (Cons 'd' Nil)))))))"
      ]
     },
     "metadata": {},
     "output_type": "display_data"
    }
   ],
   "source": [
    "-- the example from the exercise description\n",
    "multiply [(3,Cons 'a' Nil), (1,Cons 'b' Nil), (2,Cons 'c' (Cons 'd' Nil))]"
   ]
  },
  {
   "cell_type": "markdown",
   "metadata": {},
   "source": [
    "## Exercise 3\n",
    "\n",
    "*In this exercise you may **not** use any predefined functions except `map`, `foldr`, `filter`, +, constructors and comparisons. Also, you may **not** use explicit recursion.*"
   ]
  },
  {
   "cell_type": "markdown",
   "metadata": {},
   "source": [
    "### 3a)\n",
    "\n",
    "*Implement a function `removeDuplicates :: Eq a => [a] -> [a]` that given a list of an instance of `Eq` computes a list that contains exactly the same elements as the input list but only with a single occurrence. For example `removeDuplicates [1,1,2,1,-1,1,1,2,3,1] == [1,2,-1,3]`.*"
   ]
  },
  {
   "cell_type": "code",
   "execution_count": 32,
   "metadata": {
    "scrolled": false
   },
   "outputs": [],
   "source": [
    "{-|\n",
    "  Inserts an element x into a list xs\n",
    "  only if x is not already in xs.\n",
    "-}\n",
    "insertUnique :: Eq a => a -> [a] -> [a]\n",
    "insertUnique x xs | isUnique  = x : xs\n",
    "                  | otherwise = xs\n",
    "                  where isUnique = (filter (==x) xs) == []\n",
    "\n",
    "{-|\n",
    "  Given a list xs, returns a list xs' in which\n",
    "  all duplicate elements have been removed.\n",
    "-}\n",
    "removeDuplicates :: Eq a => [a] -> [a]\n",
    "removeDuplicates [] = []\n",
    "removeDuplicates xs = foldr insertUnique [] xs"
   ]
  },
  {
   "cell_type": "markdown",
   "metadata": {},
   "source": [
    "#### Test cases"
   ]
  },
  {
   "cell_type": "code",
   "execution_count": 33,
   "metadata": {
    "scrolled": true
   },
   "outputs": [
    {
     "data": {
      "text/plain": [
       "[-1,2,3,1]"
      ]
     },
     "metadata": {},
     "output_type": "display_data"
    }
   ],
   "source": [
    "-- the example from the exercise description\n",
    "removeDuplicates [1,1,2,1,-1,1,1,2,3,1]"
   ]
  },
  {
   "cell_type": "code",
   "execution_count": 34,
   "metadata": {},
   "outputs": [
    {
     "data": {
      "text/plain": [
       "[1]"
      ]
     },
     "metadata": {},
     "output_type": "display_data"
    }
   ],
   "source": [
    "-- a simple test with a singleton list\n",
    "removeDuplicates [1]"
   ]
  },
  {
   "cell_type": "code",
   "execution_count": 35,
   "metadata": {
    "code_folding": []
   },
   "outputs": [
    {
     "data": {
      "text/plain": [
       "[1,2,3,4,5]"
      ]
     },
     "metadata": {},
     "output_type": "display_data"
    }
   ],
   "source": [
    "-- we check that a list with unique\n",
    "-- elements is left untouched\n",
    "removeDuplicates [1,2,3,4,5]"
   ]
  },
  {
   "cell_type": "code",
   "execution_count": 36,
   "metadata": {
    "scrolled": false
   },
   "outputs": [
    {
     "data": {
      "text/plain": [
       "[1,2,3]"
      ]
     },
     "metadata": {},
     "output_type": "display_data"
    }
   ],
   "source": [
    "-- another list with repeated elements\n",
    "removeDuplicates [1,1,1,2,2,2,3,3,3]"
   ]
  },
  {
   "cell_type": "markdown",
   "metadata": {},
   "source": [
    "### 3b)\n",
    "\n",
    "*Implement a function `differentDigits :: Int -> Int` that counts the number of different digits occurring in the decimal representation of an integer. For example, `differentDigits 08052019 == 6` and `differentDigits 111231112111 == 3`.*\n",
    "\n",
    "*Hints: The function `show :: Int -> String` converts an integer into its decimal string representation. You are allowed to use it in this subexercise.*"
   ]
  },
  {
   "cell_type": "code",
   "execution_count": 37,
   "metadata": {
    "scrolled": true
   },
   "outputs": [],
   "source": [
    "{-|\n",
    "  Returns the number of unique digits\n",
    "  in the decimal representation of a\n",
    "  given integer. Uses the removeDuplicates\n",
    "  function from 3a).\n",
    "-}\n",
    "differentDigits :: Int -> Int\n",
    "differentDigits x = foldr (+) 0 oneList\n",
    "                    where oneList = map (\\x -> 1) uniqueDigits\n",
    "                          uniqueDigits = removeDuplicates (show x)"
   ]
  },
  {
   "cell_type": "markdown",
   "metadata": {},
   "source": [
    "#### Test cases"
   ]
  },
  {
   "cell_type": "code",
   "execution_count": 38,
   "metadata": {},
   "outputs": [
    {
     "data": {
      "text/plain": [
       "6"
      ]
     },
     "metadata": {},
     "output_type": "display_data"
    }
   ],
   "source": [
    "-- the first example from the exercise description\n",
    "differentDigits 08052019"
   ]
  },
  {
   "cell_type": "code",
   "execution_count": 39,
   "metadata": {},
   "outputs": [
    {
     "data": {
      "text/plain": [
       "3"
      ]
     },
     "metadata": {},
     "output_type": "display_data"
    }
   ],
   "source": [
    "-- the second example from the exercise description\n",
    "differentDigits 111231112111"
   ]
  },
  {
   "cell_type": "code",
   "execution_count": 40,
   "metadata": {},
   "outputs": [
    {
     "data": {
      "text/plain": [
       "1"
      ]
     },
     "metadata": {},
     "output_type": "display_data"
    }
   ],
   "source": [
    "-- sanity check with a single-digit number\n",
    "differentDigits 0"
   ]
  },
  {
   "cell_type": "code",
   "execution_count": 41,
   "metadata": {},
   "outputs": [
    {
     "data": {
      "text/plain": [
       "5"
      ]
     },
     "metadata": {},
     "output_type": "display_data"
    }
   ],
   "source": [
    "-- a number with unique digits\n",
    "differentDigits 12345"
   ]
  },
  {
   "cell_type": "markdown",
   "metadata": {},
   "source": [
    "## Exercise 4\n",
    "\n",
    "*Consider the following data type which represents univariate polynomials with arbitrary coefficients:*\n",
    "\n",
    "```\n",
    "data Polynomial a = Coeff a Int (Polynomial a)| Null deriving Show\n",
    "```\n",
    "\n",
    "*With `Null` we denote the zero polynomial und `Coeff c n p` represents the polynomial $c \\cdot x^n + p$. For example, the polynomial $4 \\cdot x^3 + 2 \\cdot x + 5$ with integer coefficients is represented by the term `q` with `q = Coeff 4 3 (Coeff 2 1 (Coeff 5 0 Null))` and type `q :: Polynomial Int`.*"
   ]
  },
  {
   "cell_type": "code",
   "execution_count": 42,
   "metadata": {},
   "outputs": [],
   "source": [
    "data Polynomial a = Coeff a Int (Polynomial a)| Null deriving Show"
   ]
  },
  {
   "cell_type": "code",
   "execution_count": 43,
   "metadata": {},
   "outputs": [],
   "source": [
    "q :: Polynomial Int\n",
    "q = Coeff 4 3 (Coeff 2 1 (Coeff 5 0 Null))"
   ]
  },
  {
   "cell_type": "code",
   "execution_count": 44,
   "metadata": {},
   "outputs": [
    {
     "data": {
      "text/plain": [
       "Coeff 4 3 (Coeff 2 1 (Coeff 5 0 Null))"
      ]
     },
     "metadata": {},
     "output_type": "display_data"
    }
   ],
   "source": [
    "q"
   ]
  },
  {
   "cell_type": "markdown",
   "metadata": {},
   "source": [
    "### 4a)\n",
    "\n",
    "*Write a function `foldPoly :: (a -> Int -> b -> b) -> b -> Polynomial a -> b` that behaves similar to the `foldr` function on lists, i.e., `foldPoly f e p` replaces every occurrence of the constructor `Coeff` by `f` and every occurrence of `Null` by `e` in `p`. For example, `foldPoly (\\c n m -> c *3^n + m) 0 q` evaluates to `4 * 3^3 + 2 * 3 + 5 == 119`.*"
   ]
  },
  {
   "cell_type": "code",
   "execution_count": 45,
   "metadata": {},
   "outputs": [],
   "source": [
    "foldPoly :: (a -> Int -> b -> b) -> b -> Polynomial a -> b\n",
    "foldPoly f e Null = e\n",
    "foldPoly f e (Coeff c n p) = f c n (foldPoly f e p)"
   ]
  },
  {
   "cell_type": "markdown",
   "metadata": {},
   "source": [
    "#### Test cases"
   ]
  },
  {
   "cell_type": "code",
   "execution_count": 46,
   "metadata": {},
   "outputs": [
    {
     "data": {
      "text/plain": [
       "119"
      ]
     },
     "metadata": {},
     "output_type": "display_data"
    }
   ],
   "source": [
    "-- the example from the exercise description\n",
    "foldPoly (\\c n m -> c *3^n + m) 0 q"
   ]
  },
  {
   "cell_type": "markdown",
   "metadata": {},
   "source": [
    "### 4b)\n",
    "\n",
    "*Write a function `degree :: Polynomial Int -> Int` that computes the degree of a polynomial with integer coefficients. We define degree `Null == minBound`, where `minBound :: Int` is the smallest integer on your system, as a placeholder for $-\\infty$. The degree of a nonzero polynomial is the maximal power of $x$ occurring with a nonzero coefficient. For example the degree of $4 \\cdot x^3 + 2 \\cdot x + 5$ is 3. For simplicity, we assume that if a polynomial contains the expression `...Coeff c n ...` then `n` does not occur as the second argument of `Coeff` again. You may **not** use any predefined functions except comparisons. You may **not** use explicit recursion.*"
   ]
  },
  {
   "cell_type": "code",
   "execution_count": 47,
   "metadata": {},
   "outputs": [],
   "source": [
    "maxCoeff :: Int -> Int -> Int -> Int\n",
    "maxCoeff c n m | (c < 0) = m\n",
    "               | (c > 0) && (n > m) = n\n",
    "               | otherwise = m\n",
    "\n",
    "degree :: Polynomial Int -> Int\n",
    "degree poly = foldPoly (maxCoeff) minBound poly"
   ]
  },
  {
   "cell_type": "markdown",
   "metadata": {},
   "source": [
    "#### Test cases"
   ]
  },
  {
   "cell_type": "code",
   "execution_count": 48,
   "metadata": {},
   "outputs": [
    {
     "data": {
      "text/plain": [
       "3"
      ]
     },
     "metadata": {},
     "output_type": "display_data"
    }
   ],
   "source": [
    "-- the example from the exercise description\n",
    "degree q"
   ]
  },
  {
   "cell_type": "code",
   "execution_count": 49,
   "metadata": {},
   "outputs": [
    {
     "data": {
      "text/plain": [
       "-9223372036854775808"
      ]
     },
     "metadata": {},
     "output_type": "display_data"
    }
   ],
   "source": [
    "-- a Null polynomial\n",
    "degree Null"
   ]
  },
  {
   "cell_type": "code",
   "execution_count": 50,
   "metadata": {
    "scrolled": true
   },
   "outputs": [
    {
     "data": {
      "text/plain": [
       "2"
      ]
     },
     "metadata": {},
     "output_type": "display_data"
    }
   ],
   "source": [
    "-- x^2 + 2x + 1\n",
    "degree (Coeff 1 2 (Coeff 2 1 (Coeff 1 0 Null)))"
   ]
  },
  {
   "cell_type": "code",
   "execution_count": 51,
   "metadata": {},
   "outputs": [
    {
     "data": {
      "text/plain": [
       "7"
      ]
     },
     "metadata": {},
     "output_type": "display_data"
    }
   ],
   "source": [
    "-- x^2 + 5x^4 + 3x^3 + x^7 + x\n",
    "degree (Coeff 1 2(Coeff 5 4(Coeff 3 3(Coeff 1 7 (Coeff 1 0 Null)))))"
   ]
  },
  {
   "cell_type": "code",
   "execution_count": 52,
   "metadata": {},
   "outputs": [
    {
     "data": {
      "text/plain": [
       "3"
      ]
     },
     "metadata": {},
     "output_type": "display_data"
    }
   ],
   "source": [
    "-- x^3 + 0x^2 + x + 1\n",
    "degree (Coeff 1 3(Coeff 0 2(Coeff 1 1(Coeff 1 0 Null))))"
   ]
  }
 ],
 "metadata": {
  "kernelspec": {
   "display_name": "Haskell",
   "language": "haskell",
   "name": "haskell"
  },
  "language_info": {
   "codemirror_mode": "ihaskell",
   "file_extension": ".hs",
   "name": "haskell",
   "pygments_lexer": "Haskell",
   "version": "8.6.4"
  }
 },
 "nbformat": 4,
 "nbformat_minor": 2
}
