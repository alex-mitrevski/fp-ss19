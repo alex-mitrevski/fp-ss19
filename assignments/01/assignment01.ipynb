{
 "cells": [
  {
   "cell_type": "markdown",
   "metadata": {},
   "source": [
    "# Functional Programming SS19\n",
    "\n",
    "# Assignment 01 Solutions"
   ]
  },
  {
   "cell_type": "markdown",
   "metadata": {},
   "source": [
    "## Exercise 1"
   ]
  },
  {
   "cell_type": "markdown",
   "metadata": {},
   "source": [
    "### 1a)\n",
    "\n",
    "Give examples of Haskell function declarations with the following types and briefly explain their semantics. Your solutions must not ignore any of their arguments completely.\n",
    "\n",
    "1. `Bool -> Bool -> Int`\n",
    "2. `[Int] -> [Bool] -> Int`\n",
    "3. `[Bool] -> (Bool -> Int) -> [Int]`"
   ]
  },
  {
   "cell_type": "markdown",
   "metadata": {},
   "source": [
    "1\\. A simple example of a function with this signature would be one that converts the result of && to an integer.\n",
    "\n",
    "```\n",
    "andToInt :: Bool -> Bool -> Int\n",
    "andToInt x y | x && y    = 1\n",
    "             | otherwise = 0\n",
    "```\n",
    "\n",
    "2\\. An example of such a function would be one that sums up the values in the integer list for which the corresponding entries in the Boolean list are set to True. This could be used for filtering out data (e.g. sensor measurements).\n",
    "\n",
    "```\n",
    "sumValid :: [Int] -> [Bool] -> Int\n",
    "sumValid [] [] = 0\n",
    "sumValid x []  = 0\n",
    "sumValid [] x  = 0\n",
    "sumValid (x : xs) (y : ys) | y == True = x + sumValid xs ys\n",
    "                           | otherwise = sumValid xs ys\n",
    "```\n",
    "\n",
    "3\\. A definition of a function with this signature is given below:\n",
    "\n",
    "```\n",
    "boolListToIntList :: [Bool] -> (Bool -> Int) -> [Int]\n",
    "boolListToIntList xs f = [ f x | x <- xs ]\n",
    "```\n",
    "\n",
    "where a list comprehension is used for simplicity.\n",
    "\n",
    "We could for instance use this function to obtain a list of zeros and ones from a list of Booleans, which could be used in a predicate learning scenario (depending on the learning algorithm, numeric rather than Boolean vectors may be required)."
   ]
  },
  {
   "cell_type": "markdown",
   "metadata": {},
   "source": [
    "### 1b)\n",
    "\n",
    "Suppose that `f` has the type `Bool -> [Int] -> Int`. What is the type of `\\x y -> f ((f True x)>0) [y]`?"
   ]
  },
  {
   "cell_type": "markdown",
   "metadata": {},
   "source": [
    "The type of the given lambda function is `[Int] -> Int -> Int`. We can find this by pattern matching on the right-hand side of the function. Since we know the type of `f`, it is clear that `x` is of type `[Int]`; otherwise, it would not be possible to apply the innermost `f`. `y` then has to be of type `Int`, otherwise the application of the outermost `f` would not be possible. Since `f` returns an `Int` value, the return type of the lambda function is also `Int`."
   ]
  },
  {
   "cell_type": "markdown",
   "metadata": {},
   "source": [
    "## Exercise 2"
   ]
  },
  {
   "cell_type": "markdown",
   "metadata": {},
   "source": [
    "### 2a)\n",
    "\n",
    "For each of the following equations, if possible, give pairwise different example values for x, y, and z such that the equation holds. Otherwise explain why such an assignment is not possible.\n",
    "\n",
    "1. `[[x],[y]] == [y]:z`\n",
    "2. `([x] ++ z):y == (x:z):y`\n",
    "3. `[[]] ++ ([x]:y) == ([x]:z)`\n",
    "4. `(x:y):z == (y ++ [x]):z`\n",
    "\n",
    "The operator ++ concatenates two lists. For example: `[1, 2, 3] ++ [2, 3] = [1, 2, 3, 2, 3]`."
   ]
  },
  {
   "cell_type": "markdown",
   "metadata": {},
   "source": [
    "2a1) In this case, the values of `x` and `y` on the left- and right-hand side respectively have to be equal; this however violates the given constraint of pairwise different examples, so there is no possible assignment that would satisfy this equation."
   ]
  },
  {
   "cell_type": "markdown",
   "metadata": {},
   "source": [
    "2a2) In this equation, we need the expressions in parentheses to be of type `a` and `y` to be of type `[a]`. An assignment that satisfies the equation would thus be\n",
    "\n",
    "```\n",
    "x = [1]\n",
    "y = [[[2]]]\n",
    "z = []\n",
    "```\n",
    "\n",
    "since in this case, `y` has the type `[[[Int]]]`, while the expressions in parentheses on both sides have the type `[[Int]]`, which matches the type of `y`'s elements."
   ]
  },
  {
   "cell_type": "code",
   "execution_count": 1,
   "metadata": {},
   "outputs": [
    {
     "data": {
      "text/html": [
       "<style>/* Styles used for the Hoogle display in the pager */\n",
       ".hoogle-doc {\n",
       "display: block;\n",
       "padding-bottom: 1.3em;\n",
       "padding-left: 0.4em;\n",
       "}\n",
       ".hoogle-code {\n",
       "display: block;\n",
       "font-family: monospace;\n",
       "white-space: pre;\n",
       "}\n",
       ".hoogle-text {\n",
       "display: block;\n",
       "}\n",
       ".hoogle-name {\n",
       "color: green;\n",
       "font-weight: bold;\n",
       "}\n",
       ".hoogle-head {\n",
       "font-weight: bold;\n",
       "}\n",
       ".hoogle-sub {\n",
       "display: block;\n",
       "margin-left: 0.4em;\n",
       "}\n",
       ".hoogle-package {\n",
       "font-weight: bold;\n",
       "font-style: italic;\n",
       "}\n",
       ".hoogle-module {\n",
       "font-weight: bold;\n",
       "}\n",
       ".hoogle-class {\n",
       "font-weight: bold;\n",
       "}\n",
       ".get-type {\n",
       "color: green;\n",
       "font-weight: bold;\n",
       "font-family: monospace;\n",
       "display: block;\n",
       "white-space: pre-wrap;\n",
       "}\n",
       ".show-type {\n",
       "color: green;\n",
       "font-weight: bold;\n",
       "font-family: monospace;\n",
       "margin-left: 1em;\n",
       "}\n",
       ".mono {\n",
       "font-family: monospace;\n",
       "display: block;\n",
       "}\n",
       ".err-msg {\n",
       "color: red;\n",
       "font-style: italic;\n",
       "font-family: monospace;\n",
       "white-space: pre;\n",
       "display: block;\n",
       "}\n",
       "#unshowable {\n",
       "color: red;\n",
       "font-weight: bold;\n",
       "}\n",
       ".err-msg.in.collapse {\n",
       "padding-top: 0.7em;\n",
       "}\n",
       ".highlight-code {\n",
       "white-space: pre;\n",
       "font-family: monospace;\n",
       "}\n",
       ".suggestion-warning { \n",
       "font-weight: bold;\n",
       "color: rgb(200, 130, 0);\n",
       "}\n",
       ".suggestion-error { \n",
       "font-weight: bold;\n",
       "color: red;\n",
       "}\n",
       ".suggestion-name {\n",
       "font-weight: bold;\n",
       "}\n",
       "</style><div class=\"suggestion-name\" style=\"clear:both;\">Use :</div><div class=\"suggestion-row\" style=\"float: left;\"><div class=\"suggestion-warning\">Found:</div><div class=\"highlight-code\" id=\"haskell\">[x] ++ z</div></div><div class=\"suggestion-row\" style=\"float: left;\"><div class=\"suggestion-warning\">Why Not:</div><div class=\"highlight-code\" id=\"haskell\">x : z</div></div>"
      ],
      "text/plain": [
       "Line 1: Use :\n",
       "Found:\n",
       "[x] ++ z\n",
       "Why not:\n",
       "x : z"
      ]
     },
     "metadata": {},
     "output_type": "display_data"
    },
    {
     "data": {
      "text/plain": [
       "True"
      ]
     },
     "metadata": {},
     "output_type": "display_data"
    }
   ],
   "source": [
    "x = [1]\n",
    "y = [[[2]]]\n",
    "z = []\n",
    "([x] ++ z):y == (x:z):y"
   ]
  },
  {
   "cell_type": "markdown",
   "metadata": {},
   "source": [
    "2a3) This expression requires the following equality to hold\n",
    "\n",
    "```\n",
    "[[], [x], ...] == [[x], ...]\n",
    "```\n",
    "\n",
    "for which there is no possible assignment."
   ]
  },
  {
   "cell_type": "markdown",
   "metadata": {},
   "source": [
    "2a4) For this equation to hold, we need `x : y == y ++ [x]`; `x = []`, `y = [[]]` satisfies this equality since we obtain the list `[[], []]` on both sides, which is of type `[[a]]`. `z` then needs to be of type `[[[a]]]` for the overall equality to hold. An assignment that satisfies the equality is thus\n",
    "\n",
    "```\n",
    "x = []\n",
    "y = [[]]\n",
    "z = [[[1]]]\n",
    "```"
   ]
  },
  {
   "cell_type": "code",
   "execution_count": 2,
   "metadata": {},
   "outputs": [
    {
     "data": {
      "text/plain": [
       "True"
      ]
     },
     "metadata": {},
     "output_type": "display_data"
    }
   ],
   "source": [
    "x = []\n",
    "y = [[]]\n",
    "z = [[[1]]]\n",
    "(x:y):z == (y ++ [x]):z"
   ]
  },
  {
   "cell_type": "markdown",
   "metadata": {},
   "source": [
    "### 2b)\n",
    "\n",
    "Consider the following patterns:\n",
    "\n",
    "`p1) ([x]++y):ys`\n",
    "\n",
    "`p2) (x:y)++ys`\n",
    "\n",
    "and the following terms:\n",
    "\n",
    "`t1) [[]]`\n",
    "\n",
    "`t2) [[1,2],[3]]`\n",
    "\n",
    "For each pair of a pattern and a term, indicate whether the pattern matches the term. If so, provide the appropriate matching substitution. Otherwise, explain why the pattern does not match the term. Does there exist a term that is matched by `p1` but not by `p2`? Justify your answer."
   ]
  },
  {
   "cell_type": "markdown",
   "metadata": {},
   "source": [
    "2b1) In this pattern, `ys/[]` is the only possible substitution for `ys`; however, we also need `[x]++y == []`, for which there is no matching substitution. As a result, `t1` does not match `p1`."
   ]
  },
  {
   "cell_type": "markdown",
   "metadata": {},
   "source": [
    "2b2) `t2` matches `p1`; the matching substitution is $\\sigma = [x/1, y/[2], ys/[[3]]]$."
   ]
  },
  {
   "cell_type": "code",
   "execution_count": 3,
   "metadata": {},
   "outputs": [
    {
     "data": {
      "text/html": [
       "<style>/* Styles used for the Hoogle display in the pager */\n",
       ".hoogle-doc {\n",
       "display: block;\n",
       "padding-bottom: 1.3em;\n",
       "padding-left: 0.4em;\n",
       "}\n",
       ".hoogle-code {\n",
       "display: block;\n",
       "font-family: monospace;\n",
       "white-space: pre;\n",
       "}\n",
       ".hoogle-text {\n",
       "display: block;\n",
       "}\n",
       ".hoogle-name {\n",
       "color: green;\n",
       "font-weight: bold;\n",
       "}\n",
       ".hoogle-head {\n",
       "font-weight: bold;\n",
       "}\n",
       ".hoogle-sub {\n",
       "display: block;\n",
       "margin-left: 0.4em;\n",
       "}\n",
       ".hoogle-package {\n",
       "font-weight: bold;\n",
       "font-style: italic;\n",
       "}\n",
       ".hoogle-module {\n",
       "font-weight: bold;\n",
       "}\n",
       ".hoogle-class {\n",
       "font-weight: bold;\n",
       "}\n",
       ".get-type {\n",
       "color: green;\n",
       "font-weight: bold;\n",
       "font-family: monospace;\n",
       "display: block;\n",
       "white-space: pre-wrap;\n",
       "}\n",
       ".show-type {\n",
       "color: green;\n",
       "font-weight: bold;\n",
       "font-family: monospace;\n",
       "margin-left: 1em;\n",
       "}\n",
       ".mono {\n",
       "font-family: monospace;\n",
       "display: block;\n",
       "}\n",
       ".err-msg {\n",
       "color: red;\n",
       "font-style: italic;\n",
       "font-family: monospace;\n",
       "white-space: pre;\n",
       "display: block;\n",
       "}\n",
       "#unshowable {\n",
       "color: red;\n",
       "font-weight: bold;\n",
       "}\n",
       ".err-msg.in.collapse {\n",
       "padding-top: 0.7em;\n",
       "}\n",
       ".highlight-code {\n",
       "white-space: pre;\n",
       "font-family: monospace;\n",
       "}\n",
       ".suggestion-warning { \n",
       "font-weight: bold;\n",
       "color: rgb(200, 130, 0);\n",
       "}\n",
       ".suggestion-error { \n",
       "font-weight: bold;\n",
       "color: red;\n",
       "}\n",
       ".suggestion-name {\n",
       "font-weight: bold;\n",
       "}\n",
       "</style><div class=\"suggestion-name\" style=\"clear:both;\">Use :</div><div class=\"suggestion-row\" style=\"float: left;\"><div class=\"suggestion-warning\">Found:</div><div class=\"highlight-code\" id=\"haskell\">[x] ++ y</div></div><div class=\"suggestion-row\" style=\"float: left;\"><div class=\"suggestion-warning\">Why Not:</div><div class=\"highlight-code\" id=\"haskell\">x : y</div></div>"
      ],
      "text/plain": [
       "Line 1: Use :\n",
       "Found:\n",
       "[x] ++ y\n",
       "Why not:\n",
       "x : y"
      ]
     },
     "metadata": {},
     "output_type": "display_data"
    },
    {
     "data": {
      "text/plain": [
       "[[1,2],[3]]"
      ]
     },
     "metadata": {},
     "output_type": "display_data"
    }
   ],
   "source": [
    "x = 1\n",
    "y = [2]\n",
    "ys = [[3]]\n",
    "([x]++y):ys"
   ]
  },
  {
   "cell_type": "markdown",
   "metadata": {},
   "source": [
    "2b3) `t1` matches `p2`; the matching substitution is $\\sigma = [x/[], y=[], ys=[]]$."
   ]
  },
  {
   "cell_type": "code",
   "execution_count": 4,
   "metadata": {},
   "outputs": [
    {
     "data": {
      "text/plain": [
       "[[]]"
      ]
     },
     "metadata": {},
     "output_type": "display_data"
    }
   ],
   "source": [
    "x = []\n",
    "y = []\n",
    "ys = []\n",
    "(x:y) ++ ys"
   ]
  },
  {
   "cell_type": "markdown",
   "metadata": {},
   "source": [
    "2b4) `t2` matches `p2`; the matching substitution is $\\sigma = [x/[1,2], y/[], ys/[[3]]]$."
   ]
  },
  {
   "cell_type": "code",
   "execution_count": 5,
   "metadata": {},
   "outputs": [
    {
     "data": {
      "text/plain": [
       "[[1,2],[3]]"
      ]
     },
     "metadata": {},
     "output_type": "display_data"
    }
   ],
   "source": [
    "x = [1,2]\n",
    "y = []\n",
    "ys = [[3]]\n",
    "(x:y) ++ ys"
   ]
  },
  {
   "cell_type": "markdown",
   "metadata": {},
   "source": [
    "## Exercise 3"
   ]
  },
  {
   "cell_type": "markdown",
   "metadata": {},
   "source": [
    "### 3a)\n",
    "\n",
    "Write a Haskell–function `myrem`, where `myrem x y` is the remainder of the integer division when dividing x by y. So for example, `myrem 14 3 == 2`. If `y == 0` then `myrem x 0 == x`. If `y < 0` then `myrem x y == myrem x (-y)`.\n",
    "\n",
    "```\n",
    "myrem :: Int -> Int -> Int.\n",
    "```\n",
    "\n",
    "You may not use any predefined functions except comparisons, +, and -."
   ]
  },
  {
   "cell_type": "code",
   "execution_count": 6,
   "metadata": {},
   "outputs": [],
   "source": [
    "normalise :: Int -> Int -> Int\n",
    "normalise x y | x < y  = x\n",
    "              | x >= y = normalise (x - y) y\n",
    "\n",
    "myrem :: Int -> Int -> Int\n",
    "myrem x 0 = x\n",
    "myrem x y | y < 0 = myrem x (-y)\n",
    "          | y > 0 = normalise x y"
   ]
  },
  {
   "cell_type": "markdown",
   "metadata": {},
   "source": [
    "#### Test cases"
   ]
  },
  {
   "cell_type": "code",
   "execution_count": 7,
   "metadata": {},
   "outputs": [
    {
     "data": {
      "text/plain": [
       "2"
      ]
     },
     "metadata": {},
     "output_type": "display_data"
    }
   ],
   "source": [
    "myrem 14 3"
   ]
  },
  {
   "cell_type": "code",
   "execution_count": 8,
   "metadata": {},
   "outputs": [
    {
     "data": {
      "text/plain": [
       "10"
      ]
     },
     "metadata": {},
     "output_type": "display_data"
    }
   ],
   "source": [
    "myrem 10 0"
   ]
  },
  {
   "cell_type": "code",
   "execution_count": 9,
   "metadata": {},
   "outputs": [
    {
     "data": {
      "text/plain": [
       "2"
      ]
     },
     "metadata": {},
     "output_type": "display_data"
    }
   ],
   "source": [
    "myrem 14 (-3)"
   ]
  },
  {
   "cell_type": "markdown",
   "metadata": {},
   "source": [
    "### 3b)\n",
    "\n",
    "Write a Haskell-function `count` that given a list `xs` and an element `x` returns the number of occurences of `x` in `xs`. E.g., `count 2 [0,2,2,0,2,5,0,2] == 4` wheras `count (-7) [0,2,2,0,2,5,0,2] == 0`.\n",
    "\n",
    "```\n",
    "count :: Int -> [ Int ] -> Int\n",
    "```\n",
    "\n",
    "You may not use any predefined functions except comparisons and +."
   ]
  },
  {
   "cell_type": "code",
   "execution_count": 10,
   "metadata": {},
   "outputs": [],
   "source": [
    "count :: Int -> [Int] -> Int\n",
    "count x [] = 0\n",
    "count x (y : ys) | x == y = 1 + count x ys\n",
    "                 | x /= y = count x ys"
   ]
  },
  {
   "cell_type": "markdown",
   "metadata": {},
   "source": [
    "#### Test cases"
   ]
  },
  {
   "cell_type": "code",
   "execution_count": 11,
   "metadata": {},
   "outputs": [
    {
     "data": {
      "text/plain": [
       "4"
      ]
     },
     "metadata": {},
     "output_type": "display_data"
    }
   ],
   "source": [
    "count 2 [0,2,2,0,2,5,0,2]"
   ]
  },
  {
   "cell_type": "code",
   "execution_count": 12,
   "metadata": {},
   "outputs": [
    {
     "data": {
      "text/plain": [
       "0"
      ]
     },
     "metadata": {},
     "output_type": "display_data"
    }
   ],
   "source": [
    "count (-7) [0,2,2,0,2,5,0,2]"
   ]
  },
  {
   "cell_type": "markdown",
   "metadata": {},
   "source": [
    "### 3c)\n",
    "\n",
    "Write a Haskell-function `simplify` that given a list `xs` returns a list of pairs as follows. The resulting list contains the pair `(x,n)` if and only if `x` occurs in `xs` `n` times and `n > 0`. E.g., `simplify [0,2,2,0,2,5,0,2] == [(0,3),(2,4),(5,1)]`.\n",
    "\n",
    "```\n",
    "simplify :: [ Int ] -> [( Int , Int )]\n",
    "```\n",
    "\n",
    "You may not use any predefined functions except comparisons."
   ]
  },
  {
   "cell_type": "code",
   "execution_count": 13,
   "metadata": {},
   "outputs": [],
   "source": [
    "{-|\n",
    "  Counts the number of instances of a given number in a list.\n",
    "  Implemented in exercise 3a).\n",
    "-}\n",
    "count :: Int -> [Int] -> Int\n",
    "count x [] = 0\n",
    "count x (y : ys) | x == y = 1 + count x ys\n",
    "                 | x /= y = count x ys\n",
    "\n",
    "{-|\n",
    "  Returns the first element in a tuple\n",
    "-}\n",
    "first :: (Int, Int) -> Int\n",
    "first (x, y) = x\n",
    "\n",
    "{-|\n",
    "  Given a list of pairs (x, y), returns True if a given number\n",
    "  is the first element of a pair and False otherwise.\n",
    "-}\n",
    "contained :: Int -> [(Int, Int)] -> Bool\n",
    "contained x [] = False\n",
    "contained x (y : ys) | x == y1 = True\n",
    "                     | x /= y1 = contained x ys\n",
    "                     where y1 = first y\n",
    "\n",
    "{-|\n",
    "  Utility function for simplify, i.e. given a list of numbers x,\n",
    "  returns a list of (m, n) tuples in which m is a number\n",
    "  and n is the number of times m occurs in x. This function avoids\n",
    "  duplicate entries in the calculation, i.e. the resulting\n",
    "  list includes a tuple containing m exactly once.\n",
    "-}\n",
    "countUnique :: [Int] -> [(Int, Int)] -> [(Int, Int)]\n",
    "countUnique [] ys = []\n",
    "countUnique (x : xs) ys | xcounted == True = z\n",
    "                        | xcounted == False = (x, count x (x : xs))\n",
    "                                              : countUnique xs w\n",
    "                        where xcounted = contained x ys\n",
    "                              z = countUnique xs ys\n",
    "                              w = (x, count x (x : xs)) : ys\n",
    "{-|\n",
    " Given a list of numbers x, returns a list of (m, n) tuples\n",
    " in which m is a number and n is the number of times m occurs in x.\n",
    "-}\n",
    "simplify :: [Int] -> [(Int, Int)]\n",
    "simplify [] = []\n",
    "simplify (x : xs) = countUnique (x : xs) []"
   ]
  },
  {
   "cell_type": "markdown",
   "metadata": {},
   "source": [
    "#### Test cases"
   ]
  },
  {
   "cell_type": "code",
   "execution_count": 14,
   "metadata": {},
   "outputs": [
    {
     "data": {
      "text/plain": [
       "[(0,3),(2,4),(5,1)]"
      ]
     },
     "metadata": {},
     "output_type": "display_data"
    }
   ],
   "source": [
    "simplify [0,2,2,0,2,5,0,2]"
   ]
  },
  {
   "cell_type": "markdown",
   "metadata": {},
   "source": [
    "### 3d)\n",
    "\n",
    "Write a Haskell-function `multUnion` that given two lists of pairs `xs` and `ys` concatenates these lists where each \"multiple occurence\" is simplified as follows: If `xs` contains a pair `(x,n)` and `ys` contains `(x,m)`, then the result contains `(x,n+m)`. You may assume that in both `xs` and `ys` an integer occurs at most once as first entry of a pair. Moreover, assume that the lists are sorted in ascending order w.r.t. the first entry of the pair. Make sure that the resulting list is sorted in ascending order w.r.t. the first entry of the pair as well. E.g., `multUnion[(0,3),(2,4),(5,1)] [(-1,1),(0,4)] == [(-1,1),(0,7),(2,4),(5,1)]`.\n",
    "\n",
    "```\n",
    "multUnion :: [( Int , Int )] -> [( Int , Int )] -> [( Int , Int )]\n",
    "```\n",
    "\n",
    "You may not use any predefined functions except comparisons and +."
   ]
  },
  {
   "cell_type": "code",
   "execution_count": 15,
   "metadata": {},
   "outputs": [],
   "source": [
    "multUnion :: [(Int, Int)] -> [(Int, Int)] -> [(Int, Int)]\n",
    "multUnion [] [] = []\n",
    "multUnion x [] = x\n",
    "multUnion [] x = x\n",
    "multUnion (x : xs) (y : ys) | m == n = (m, k + l) : multUnion xs ys\n",
    "                            | m < n  = (m, k) : multUnion xs (y : ys)\n",
    "                            | m > n  = multUnion (y : ys) (x : xs)\n",
    "                            where (m, k) = x\n",
    "                                  (n, l) = y"
   ]
  },
  {
   "cell_type": "markdown",
   "metadata": {},
   "source": [
    "#### Test cases"
   ]
  },
  {
   "cell_type": "code",
   "execution_count": 16,
   "metadata": {},
   "outputs": [
    {
     "data": {
      "text/plain": [
       "[(-1,1),(0,7),(2,4),(5,1)]"
      ]
     },
     "metadata": {},
     "output_type": "display_data"
    }
   ],
   "source": [
    "multUnion[(0,3),(2,4),(5,1)] [(-1,1),(0,4)]"
   ]
  },
  {
   "cell_type": "code",
   "execution_count": 17,
   "metadata": {},
   "outputs": [
    {
     "data": {
      "text/plain": [
       "[(-1,1),(0,7),(2,4),(5,1)]"
      ]
     },
     "metadata": {},
     "output_type": "display_data"
    }
   ],
   "source": [
    "multUnion[(-1,1),(0,3),(5,1)] [(0,4),(2,4)]"
   ]
  },
  {
   "cell_type": "markdown",
   "metadata": {},
   "source": [
    "## Exercise 4\n",
    "\n",
    "Define a Haskell function `^^^` in infix notation with the type declaration\n",
    "\n",
    "```\n",
    "(^^^) :: [Int] -> [Int] -> Int\n",
    "```\n",
    "\n",
    "such that the following holds for lists of equal length:\n",
    "\n",
    "* The function call `xs ^^^ ys` evaluates to `xs` to the power of `ys` interpreted as vectors, where the negative\n",
    "entries of `ys` are ignored. In other words, `[x1, x2, ..., xn] ^^^ [y1, y2, ..., yn] == x1 ^ y1 * x2 ^ y2 * ... * xn ^ yn`. For example `[1, 4, 5] ^^^ [7, 2, 3]` evaluates to `1 ^ 7 * 4 ^ 2 * 5 ^ 3 == 2000` and `[1, 4, 5] ^^^ [5, -1, 0]` evaluates to `1 ^ 5 * 5 ^ 0 == 1`.\n",
    "* `xs ^^^ ys * z`, where `xs` and `ys` have type `[Int]` and `z` has type `Int`, is a valid expression.\n",
    "\n",
    "The function `^^^` may behave arbitrarily if the two arguments have different lengths. You may not use any predefined functions except \\*, ^, and comparisons. You may, of course, use constructors like [] and :. You can get one bonus point if you solve the exercise even without using the predefined function ^.\n",
    "\n",
    "**Hints**:\n",
    "\n",
    "* The binding priority of \\* is 7.\n",
    "* The empty product defaults to 1, i.e. `[] ^^^ [] == 1`.\n",
    "* Note that `0 ^ 0 == 1`."
   ]
  },
  {
   "cell_type": "code",
   "execution_count": 18,
   "metadata": {},
   "outputs": [],
   "source": [
    "pow :: Int -> Int -> Int\n",
    "pow x 0 = 1\n",
    "pow x y = x * pow x (y - 1)\n",
    "\n",
    "(^^^) :: [Int] -> [Int] -> Int\n",
    "(^^^) [] []       = 1\n",
    "(^^^) (x : xs) [] = 1\n",
    "(^^^) [] (x : xs) = 1\n",
    "(^^^) (x : xs) (y : ys) | y < 0  = xs ^^^ ys\n",
    "                        | y >= 0 = (pow x y) * (xs ^^^ ys)\n",
    "infixl 7 ^^^"
   ]
  },
  {
   "cell_type": "markdown",
   "metadata": {},
   "source": [
    "#### Test cases"
   ]
  },
  {
   "cell_type": "code",
   "execution_count": 19,
   "metadata": {},
   "outputs": [
    {
     "data": {
      "text/plain": [
       "2000"
      ]
     },
     "metadata": {},
     "output_type": "display_data"
    }
   ],
   "source": [
    "[1, 4, 5] ^^^ [7, 2, 3]"
   ]
  },
  {
   "cell_type": "code",
   "execution_count": 20,
   "metadata": {},
   "outputs": [
    {
     "data": {
      "text/plain": [
       "1"
      ]
     },
     "metadata": {},
     "output_type": "display_data"
    }
   ],
   "source": [
    "[1, 4, 5] ^^^ [5, -1, 0]"
   ]
  },
  {
   "cell_type": "code",
   "execution_count": 21,
   "metadata": {},
   "outputs": [
    {
     "data": {
      "text/plain": [
       "27"
      ]
     },
     "metadata": {},
     "output_type": "display_data"
    }
   ],
   "source": [
    "[1, 4, 5, 3] ^^^ [5, -1, 0, 3]"
   ]
  },
  {
   "cell_type": "code",
   "execution_count": 22,
   "metadata": {},
   "outputs": [
    {
     "data": {
      "text/plain": [
       "1"
      ]
     },
     "metadata": {},
     "output_type": "display_data"
    }
   ],
   "source": [
    "[4, 1, 5] ^^^ [-1, 5, 0]"
   ]
  },
  {
   "cell_type": "code",
   "execution_count": 23,
   "metadata": {},
   "outputs": [
    {
     "data": {
      "text/plain": [
       "32"
      ]
     },
     "metadata": {},
     "output_type": "display_data"
    }
   ],
   "source": [
    "[2, 4, 5, 3] ^^^ [5, -1, 0]"
   ]
  },
  {
   "cell_type": "code",
   "execution_count": 24,
   "metadata": {},
   "outputs": [
    {
     "data": {
      "text/plain": [
       "32"
      ]
     },
     "metadata": {},
     "output_type": "display_data"
    }
   ],
   "source": [
    "[2, 4, 5] ^^^ [5, -1, 0, 10]"
   ]
  },
  {
   "cell_type": "code",
   "execution_count": 25,
   "metadata": {
    "scrolled": true
   },
   "outputs": [
    {
     "data": {
      "text/plain": [
       "108"
      ]
     },
     "metadata": {},
     "output_type": "display_data"
    }
   ],
   "source": [
    "[1, 4, 5, 3] ^^^ [5, -1, 0, 3] * 4"
   ]
  }
 ],
 "metadata": {
  "kernelspec": {
   "display_name": "Haskell",
   "language": "haskell",
   "name": "haskell"
  },
  "language_info": {
   "codemirror_mode": "ihaskell",
   "file_extension": ".hs",
   "name": "haskell",
   "pygments_lexer": "Haskell",
   "version": "8.6.4"
  }
 },
 "nbformat": 4,
 "nbformat_minor": 2
}
