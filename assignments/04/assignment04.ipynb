{
 "cells": [
  {
   "cell_type": "markdown",
   "metadata": {},
   "source": [
    "# Functional Programming SS19\n",
    "\n",
    "# Assignment 04 Solutions"
   ]
  },
  {
   "cell_type": "markdown",
   "metadata": {},
   "source": [
    "## Exercise 1 (Semantics of Partial Functions)\n",
    "\n",
    "*Consider the following function:*\n",
    "\n",
    "```\n",
    "plus :: Int -> Int -> Int\n",
    "plus 0 y = y\n",
    "plus x 0 = x\n",
    "plus x y = x + y\n",
    "```\n",
    "\n",
    "a) *Define the semantics of `plus` as a function $f_{plus}: \\mathbb{Z}_\\bot \\times \\mathbb{Z}_\\bot \\rightarrow \\mathbb{Z}_\\bot$. Take the evaluation strategy of Haskell into account. In your definition, \"+\" may only be applied to arguments from $\\mathbb{Z}$.*"
   ]
  },
  {
   "cell_type": "markdown",
   "metadata": {},
   "source": [
    "We can define the semantics of `plus` by the following function:\n",
    "\n",
    "\\begin{equation*}\n",
    "    f_{plus}(x,y) = \\left\\{\n",
    "        \\begin{array}{ll}\n",
    "            x + y, & x \\in \\mathbb{Z} \\text { and } y \\in \\mathbb{Z} \\\\\n",
    "            \\bot & x = \\bot_{\\mathbb{Z}_\\bot} \\text{ or } y = \\bot_{\\mathbb{Z}_\\bot}\n",
    "        \\end{array}\n",
    "    \\right.\n",
    "\\end{equation*}"
   ]
  },
  {
   "cell_type": "markdown",
   "metadata": {},
   "source": [
    "b) *Prove or disprove that $f_{plus}$ is strict.*"
   ]
  },
  {
   "cell_type": "markdown",
   "metadata": {},
   "source": [
    "By definition (2.1.6 from the lecture notes), a function $f$ is strict if and only if $f$ is $\\bot$ whenever one of its arguments is $\\bot$. The strictness of $f_{plus}$ follows directly from the definition in part (a) since the function returns $\\bot$ if at least one of $x$ or $y$ is $\\bot$. $\\square$"
   ]
  },
  {
   "cell_type": "markdown",
   "metadata": {},
   "source": [
    "c) *Prove that $f_{plus}$ is monotonic. Do not make use of the fact that any Haskell function is computable and hence monotonic.*"
   ]
  },
  {
   "cell_type": "markdown",
   "metadata": {},
   "source": [
    "The monotonicity of $f_{plus}$ is guaranteed by lemma 2.1.8, which states that any strict function is monotonic, but we also can prove the result for $f_{plus}$ specifically.\n",
    "\n",
    "By definition (2.1.7 from the lecture notes), a function $f: D_1 \\rightarrow D_2$ is monotonic if, for any $d, d' \\in D_1$, we have that $f(d) \\sqsubseteq f(d')$ whenever $d \\sqsubseteq d'$. For $f_{plus}$, we have $D_1 = \\mathbb{Z}_{\\bot} \\times \\mathbb{Z}_{\\bot}$. To show that the function is monotonic, let us consider two inputs $d = (x, y)$ and $d' = (x', y')$, where $d \\sqsubseteq d'$. We now have two cases to consider:\n",
    "\n",
    "1. $d = d'$: In this case, we either have $x = \\bot, y = \\bot$ or $x \\in \\mathbb{Z}, y \\in \\mathbb{Z}$. In the former case, $f_{plus}(x,y) = \\bot$ due to the strictness, while in the latter case, $f_{plus}(x, y) \\in \\mathbb{Z}$. In both cases, $f_{plus}(x, y) \\sqsubseteq f_{plus}(x',y')$ due to the reflexivity of $\\sqsubseteq$.\n",
    "2. $d \\neq d'$: In this case, at least one of $x$ or $y$ must be $\\bot$, but since the function is strict, $f_{plus}(x,y) = \\bot$ whenever *at least one* of $x, y$ is $\\bot$. Thus, we have that either $f_{plus}(x, y) = f_{plus}(x', y') = \\bot$ (if $x'$ or $y'$ is $\\bot$) or $f_{plus}(x, y) = \\bot$ and $f_{plus}(x', y') \\in \\mathbb{Z}$. In both cases, $f_{plus}(x, y) \\sqsubseteq f_{plus}(x', y')$.\n",
    "\n",
    "We have thus shown that $f_{plus}(x, y) \\sqsubseteq f_{plus}(x', y')$ for any $(x, y) \\sqsubseteq (x', y')$, which means that $f_{plus}$ is monotonic. $\\square$."
   ]
  },
  {
   "cell_type": "markdown",
   "metadata": {},
   "source": [
    "## Exercise 2 (Monotonicity)\n",
    "\n",
    "*Consider the following total functions (with their usual interpretation):*\n",
    "\n",
    "a) $- : \\mathbb{Z} \\mapsto \\mathbb{Z}_\\bot$\n",
    "\n",
    "b) $*, \\max: \\mathbb{N} \\times \\mathbb{N} \\mapsto \\mathbb{N}_\\bot$\n",
    "\n",
    "*Here, \"-\" denotes the function that maps 2 to -2 or -3 to 3. Moreover, \"max\" denotes the \"maximum\" function.*\n",
    "\n",
    "*For all $f \\in \\{ -, \\max, * \\}$, give all monotonic functions $f'$ such that $f'$ is an extension of $f$, i.e. $f'(x_1, ..., x_n) = f(x_1, ..., x_n)$ for all $x_1, ..., x_n$ different from $\\bot$. The functions $f'$ should map between the following sets:*\n",
    "\n",
    "a) $-' : \\mathbb{Z}_\\bot \\rightarrow \\mathbb{Z}_\\bot$\n",
    "\n",
    "b) $*', \\max' : \\mathbb{N}_\\bot \\times \\mathbb{N}_\\bot \\rightarrow \\mathbb{N}_\\bot$"
   ]
  },
  {
   "cell_type": "markdown",
   "metadata": {},
   "source": [
    "a) Let us define $-$ as a function $f(x)$. If $x \\in \\mathbb{Z}$, then all functions of the form $x \\mapsto kx - (k + 1)x$, $k \\in \\mathbb{N}_0$ are equivalent to $f$. For an extension $f': \\mathbb{Z}_{\\bot} \\rightarrow \\mathbb{Z}_{\\bot}$ to be monotonic, we need to have $f'(\\bot) = \\bot$. Thus, any function $f'$ that has the form below is a valid extension of $f$:\n",
    "\n",
    "\\begin{equation*}\n",
    "    f'(x) = \\left\\{\n",
    "        \\begin{array}{ll}\n",
    "            kx - (k + 1)x, & x \\in \\mathbb{Z}, k \\in \\mathbb{N}_0 \\\\\n",
    "            \\bot, & x = \\bot\n",
    "        \\end{array}\n",
    "    \\right.\n",
    "\\end{equation*}\n",
    "\n",
    "If we allow a recursive representation of $-$, then the following function is also a valid extension of $f$:\n",
    "\n",
    "\\begin{equation*}\n",
    "    f'(x) = \\left\\{\n",
    "        \\begin{array}{ll}\n",
    "            0, & x = 0 \\\\\n",
    "            -1 \\cdot \\operatorname{sign}(x) + f'(x - \\operatorname{sign}(x)), & x \\in \\mathbb{Z}, \\; |x| > 0 \\\\\n",
    "            \\bot, & x = \\bot\n",
    "        \\end{array}\n",
    "    \\right.\n",
    "\\end{equation*}\n",
    "\n",
    "where $\\operatorname{sign}$ is the usual sign function that returns $-1$ if the argument is a negative number, $1$ if the argument is positive, and $0$ otherwise."
   ]
  },
  {
   "cell_type": "markdown",
   "metadata": {},
   "source": [
    "b) In the case of both $*$ and $\\max$, which are functions of the form $f(x, y)$, both arguments need to be evaluated for the result to have the desired semantics. $*$ and $\\max$ are thus strict functions, so any extension $f'$ which is a monotonic function needs to map $f'(x, y) = \\bot$ whenever at least one of $x$ and $y$ is $\\bot$.\n",
    "\n",
    "For $* = f(x, y)$, the following monotonic function $f': \\mathbb{N}_{\\bot} \\times \\mathbb{N}_{\\bot} \\rightarrow \\mathbb{N}_{\\bot}$ is a valid extension of $f$:\n",
    "\n",
    "\\begin{equation*}\n",
    "    f'(x, y) = \\left\\{\n",
    "        \\begin{array}{ll}\n",
    "            x \\cdot y, & x \\in \\mathbb{N}, y \\in \\mathbb{N} \\\\\n",
    "            \\bot, & x = \\bot \\text { or } y = \\bot\n",
    "        \\end{array}\n",
    "    \\right.\n",
    "\\end{equation*}\n",
    "\n",
    "If we allow recursive functions to represent $*$, then the following two monotonic functions are also valid extensions of $f$:\n",
    "\n",
    "\\begin{equation*}\n",
    "    f'(x, y) = \\left\\{\n",
    "        \\begin{array}{ll}\n",
    "            0, & x \\in \\mathbb{N}, y = 0 \\\\\n",
    "            x + f'(x, y-1), & x, y \\in \\mathbb{N} \\\\\n",
    "            \\bot, & x = \\bot \\text { or } y = \\bot\n",
    "        \\end{array}\n",
    "    \\right.\n",
    "\\end{equation*}\n",
    "\n",
    "\\begin{equation*}\n",
    "    f'(x, y) = \\left\\{\n",
    "        \\begin{array}{ll}\n",
    "            0, & x = 0, y \\in \\mathbb{N} \\\\\n",
    "            y + f'(x-1, y), & x, y \\in \\mathbb{N} \\\\\n",
    "            \\bot, & x = \\bot \\text { or } y = \\bot\n",
    "        \\end{array}\n",
    "    \\right.\n",
    "\\end{equation*}\n",
    "\n",
    "_______________\n",
    "\n",
    "For $\\max = f(x, y)$, there are two monotonic functions $f': \\mathbb{N}_{\\bot} \\times \\mathbb{N}_{\\bot} \\rightarrow \\mathbb{N}_{\\bot}$ that can be extensions of $f$ depending on which argument is returned when $x = y$ for $x, y \\in \\mathbb{N}$, namely $f'$ can return either $x$ or $y$ as a result. The following are thus both valid extensions of $\\max$:\n",
    "\n",
    "\\begin{equation*}\n",
    "    f'(x, y) = \\left\\{\n",
    "        \\begin{array}{ll}\n",
    "            x, & x \\geq y, \\; x, y \\in \\mathbb{N} \\\\\n",
    "            y, & x < y, \\; x, y \\in \\mathbb{N} \\\\\n",
    "            \\bot, & x = \\bot \\text { or } y = \\bot\n",
    "        \\end{array}\n",
    "    \\right.\n",
    "\\end{equation*}\n",
    "\n",
    "\\begin{equation*}\n",
    "    f'(x, y) = \\left\\{\n",
    "        \\begin{array}{ll}\n",
    "            x, & x > y, \\; x, y \\in \\mathbb{N} \\\\\n",
    "            y, & x \\leq y, \\; x, y \\in \\mathbb{N} \\\\\n",
    "            \\bot, & x = \\bot \\text { or } y = \\bot\n",
    "        \\end{array}\n",
    "    \\right.\n",
    "\\end{equation*}\n",
    "\n",
    "If we allow $\\max$ to be represented as a recursive function, then the following monotonic function is also a valid extension of $f$:\n",
    "\n",
    "\\begin{equation*}\n",
    "    f'(x, y) = \\left\\{\n",
    "        \\begin{array}{ll}\n",
    "            x, & x \\in \\mathbb{N}, y = 0 \\\\\n",
    "            y, & x = 0, y \\in \\mathbb{N} \\\\\n",
    "            1 + f'(x-1, y-1), & x, y \\in \\mathbb{N} \\\\\n",
    "            \\bot, & x = \\bot \\text { or } y = \\bot\n",
    "        \\end{array}\n",
    "    \\right.\n",
    "\\end{equation*}"
   ]
  },
  {
   "cell_type": "markdown",
   "metadata": {},
   "source": [
    "## Exercise 3 (Completeness)\n",
    "\n",
    "*Consider Theorem 2.1.13 (c) from the lecture:*\n",
    "\n",
    "*Let $D_1, D_2$ be domains. If $\\sqsubseteq_{D_2}$ is complete on $D_2$, then $\\sqsubseteq_{D_1 \\rightarrow D_2}$ is complete on $D_1 \\rightarrow D_2$.*\n",
    "\n",
    "*The other direction of this theorem holds as well:*\n",
    "\n",
    "*Let $D_1, D_2$ be arbitrary nonempty sets where $D_2$ is partially ordered with $\\sqsubseteq_{D_2}$. If $\\sqsubseteq_{D_1 \\rightarrow D_2}$ is complete on $D_1 \\rightarrow D_2$, then $\\sqsubseteq_{D_2}$ is complete on $D_2$.*\n",
    "\n",
    "*To prove this theorem, please prove the following two properties:*"
   ]
  },
  {
   "cell_type": "markdown",
   "metadata": {},
   "source": [
    "a) *If $\\sqsubseteq_{D_1 \\rightarrow D_2}$ is complete on $D_1 \\rightarrow D_2$, then $\\bot_{D_2}$ exists*.\n",
    "\n",
    "**Hints**: *You can **not** assume that $\\bot_{D_1 \\rightarrow D_2}(d) = \\bot_{D_2}$ for each $d \\in D$, as one does not know yet whether $\\bot_{D_2}$ exists. Instead, first prove that $\\bot_{D_1 \\rightarrow D_2}$ is a constant function, i.e. that $\\bot_{D_1 \\rightarrow D_2}(d) = \\bot_{D_1 \\rightarrow D_2}(d')$ for each $d, d' \\in D_1$*."
   ]
  },
  {
   "cell_type": "markdown",
   "metadata": {},
   "source": [
    "Based on the definition of completeness (2.1.12 from the lecture notes), since $\\sqsubseteq_{D_1 \\rightarrow D_2}$ is complete on $D_1 \\rightarrow D_2$, there exists a smallest element that we denote by $\\bot_{D_1 \\rightarrow D_2}$. To show that $\\bot_{D_2}$ exists, it suffices to show that $\\bot_{D_1 \\rightarrow D_2}(d) = \\bot_{D_2}$ for every $d \\in D_1$; however, given that we don't know if $\\bot_{D_2}$ exists, we first need to show that $\\bot_{D_1 \\rightarrow D_2}(d) = \\bot_{D_1 \\rightarrow D_2}(d') = k$ for each $d, d' \\in D_1$ and then show that $k = \\bot_{D_2}$.\n",
    "\n",
    "Let us take $d, d' \\in D_1$ and assume, without loss of generality, that $\\bot_{D_1 \\rightarrow D_2}(d) \\neq \\bot_{D_1 \\rightarrow D_2}(d')$ with $\\bot_{D_1 \\rightarrow D_2}(d) \\sqsubseteq \\bot_{D_1 \\rightarrow D_2}(d')$. Let us now consider two chains $S = \\{ \\bot_{D_1 \\rightarrow D_2}(d), f_1(d), f_2(d) ... \\ \\}$ and $S' = \\{ \\bot_{D_1 \\rightarrow D_2}(d'), f_1(d'), f_2(d') ... \\ \\}$, where each $f_i$ is a function $f_i: D_1 \\rightarrow D_2$, such that we have that $\\bot_{D_1 \\rightarrow D_2}(d) \\sqsubseteq f_1(d) \\sqsubseteq f_2(d) ...$ and similarly $\\bot_{D_1 \\rightarrow D_2}(d') \\sqsubseteq f_1(d') \\sqsubseteq f_2(d') ...$. But if $S'$ is a chain, then $S'' = \\{ \\bot_{D_1 \\rightarrow D_2}(d), \\bot_{D_1 \\rightarrow D_2}(d'), f_1(d'), f_2(d')... \\}$ is also a chain. This however contradicts the notion that $\\bot_{D_1 \\rightarrow D_2}$ is the smallest element for every $e \\in D_1$. It thus must be the case that $\\bot_{D_1 \\rightarrow D_2}(d) = \\bot_{D_1 \\rightarrow D_2}(d') = k$.\n",
    "\n",
    "Let us now take $d = \\bot_{D_1}$. Since we know that $\\bot_{D_1 \\rightarrow D_2}(\\bot_{D_1}) = k$, it must be the case that either $k = \\bot_{D_2}$ or $k = e$ for some element $e \\in D_2$ if $\\bot_{D_2}$ does not exist. Let us assume that $k = e$; then, $S = \\{ e, f_1(\\bot_{D_1}), f_2(\\bot_{D_1}), ... \\}$ can be a chain only if $e \\sqsubseteq f_i(\\bot_{D_1})$ for every $f_i(\\bot_{D_1})$. But if $e \\neq \\bot_{D_2}$, it can only be the case that $f_i(\\bot_{D_1}) = e$. This would however exclude all strict and constant functions from consideration. This means that $k$ cannot be equal to $e$, but must instead equal some smallest element, which we can denote $\\bot_{D_2}$. $\\square$"
   ]
  },
  {
   "cell_type": "markdown",
   "metadata": {},
   "source": [
    "b) *If $\\sqsubseteq_{D_1 \\rightarrow D_2}$ is complete on $D_1 \\rightarrow D_2$, then for all chains $S$ on $D_2$, the least upper bound $\\sqcup S$ of $S$ exists in $D_2$.*\n",
    "\n",
    "**Hints**: *You may use lemmas and theorems from the lecture before Thm. 2.1.13 for your proof.*"
   ]
  },
  {
   "cell_type": "markdown",
   "metadata": {},
   "source": [
    "Let us consider a chain $S$ on $D_2$ and suppose that the least upper bound $\\sqcup S$ of $S$ does not exist in $D_2$. Now, let us consider a chain $S' = \\{ f_1, f_2, ... \\}$ of functions, where each $f_i$ is a map $f_i: D_1 \\rightarrow S$. Since $S$ does not have a least upper bound, $S'$ will also not have a least upper bound; however, this contradicts the fact that $\\sqsubseteq_{D_1 \\rightarrow D_2}$ is complete on $D_1 \\rightarrow D_2$, which means that $\\sqcup S$ of $S$ has to exist in $D_2$. $\\square$"
   ]
  },
  {
   "cell_type": "markdown",
   "metadata": {},
   "source": [
    "## Exercise 4 (Continuity)\n",
    "\n",
    "*In this exercise we will compare topological–continuity from real analysis to continuity as defined in the lecture (Scott$^{1}$ –continuity).*\n",
    "\n",
    "*Let $a, b \\in \\mathbb{R}$, then $[a, b] := \\{ r \\; | \\; a \\leq r \\leq b \\}$. A function $f: [a, b] \\rightarrow \\mathbb{R}$ is topologically-continuous if for every converging sequence $(x_n)_{n \\in \\mathbb{N}}$ in $[a, b]$ we have*\n",
    "\n",
    "\\begin{equation*}\n",
    "    f(\\underset{n \\rightarrow \\infty}{\\lim} x_n) = \\underset{n \\rightarrow \\infty}{\\lim}f(x_n)\n",
    "\\end{equation*}\n",
    "\n",
    "*A function $f: [a, b] \\mapsto \\mathbb{R}$ is Scott-continuous if for any chain $S \\subseteq [a, b]$ we have $f(\\sup S) = \\sup f(S)$, where $f(S) = \\{ f(s) \\; | \\; s \\in S \\}$. As usual, $\\sup S$ denotes the least upper bound, i.e. the supremum of $S$.*\n",
    "____________________________________________\n",
    "$^{1}$ https://en.wikipedia.org/wiki/Dana_Scott"
   ]
  },
  {
   "cell_type": "markdown",
   "metadata": {},
   "source": [
    "a) *Let $a, b \\in \\mathbb{R}$. Show that the standard ordering $\\leq$ on the real numbers is complete on the closed interval $[a, b]$.*\n",
    "\n",
    "**Hints**: *You may use that $\\mathbb{R}$ is complete, i.e. every set of real numbers that is bounded from above has a least upper bound.*"
   ]
  },
  {
   "cell_type": "markdown",
   "metadata": {},
   "source": [
    "According to the definition of completeness (2.1.12), a reflexive partial order is complete on a set $D$ if it has a smallest element and every chain $S$ in $D$ has a least upper bound. The standard ordering $\\leq$ is indeed a reflexive partial order since reflexivity ($x \\leq x$), transitivity ($x \\leq y \\land y \\leq z \\implies x \\leq z$), and antisymmetry ($x \\leq y \\land y \\leq x \\implies x = y$) all hold.\n",
    "\n",
    "The ordering is continuous on the interval $[a,b]$ if it has a smallest element and any subset $S$ has a least upper bound. Since the interval is closed, the first criterion is clearly satisfied with the smallest element being $a$. For the second criterion, let us take an arbitrary subset $[c,d] \\subseteq [a,b]$. Here, $d$ is an upper bound since $x \\leq d$ for every $x \\in [c, d]$. Furthermore, $d$ is a least upper bound since any other upper bound $y \\in [a,b] \\setminus [c, d]$ is greater than $d$ (this follows from the completeness of $R$). The standard ordering $\\leq$ is thus indeed complete. $\\square$"
   ]
  },
  {
   "cell_type": "markdown",
   "metadata": {},
   "source": [
    "b) *Let $a, b, c, d \\in \\mathbb{R}$. Show that **not** every topologically-continuous function $f: [a, b] \\rightarrow [c, d]$ is Scott-continuous.*"
   ]
  },
  {
   "cell_type": "markdown",
   "metadata": {},
   "source": [
    "According to definition 2.1.14 in the lecture notes, a function $f: D_1 \\rightarrow D_2$ is Scott-continuous if and only if $f(\\sqcup S) = \\sqcup \\{ f(d) \\; | \\; d \\in S \\}$ for every chain $S$ in $d$ whenever $\\sqsubseteq_{D_1}$ is complete on $D_1$ and $\\sqsubseteq_{D_2}$ is complete on $D_2$. As shown in part (a), the ordering $\\leq$ is complete on an an interval $[a, b] \\in \\mathbb{R}$. Given a topologically-continuous function $f: [a, b] \\rightarrow [c, d]$, we thus have that $\\leq$ is complete on both $D_1 = [a, b]$ and $D_2 = [c, d]$.\n",
    "\n",
    "To show that not every topologically-continuous function $f$ is Scott-continuous, it suffices to find a single counterexample of a topologically-continuous function that is not Scott-continuous. In this case, we can take as an example the function $f(x) = -x^2$ on the interval $[-2, 2]$, for which $D_1 = [-2, 2]$ and $D_2 = [-4, 0]$. Let us now consider the chain $S = [-1, 1] \\in D_1$. In this case, we have\n",
    "\n",
    "\\begin{align*}\n",
    "    &\\sup S = \\sup [-1, 1] = 1 \\\\\n",
    "    &\\implies f(\\sup S) = f(1) = -1\n",
    "\\end{align*}\n",
    "\n",
    "On the other hand, we have that\n",
    "\n",
    "\\begin{equation*}\n",
    "    \\sup \\{ f(d) \\; | \\; d \\in S \\} = \\sup f(d)_{[-1, 1]} = 0\n",
    "\\end{equation*}\n",
    "\n",
    "Since $\\sup S \\neq \\sup \\{ f(d) \\; | \\; d \\in S \\}$, $f(x) = -x^2$ is not Scott-continuous on $[-2, 2]$ despite it being topologically-continuous. $\\square$"
   ]
  },
  {
   "cell_type": "markdown",
   "metadata": {},
   "source": [
    "c) *Let $a, b, c, d \\in \\mathbb{R}$. Prove that any monotonic and topologically-continuous function $f: [a, b] \\rightarrow [c, d]$ is Scott-continuous. As usual, $f$ is monotonic if $x \\leq y$ implies $f(x) \\leq f(y)$.*\n",
    "\n",
    "**Hints**: *You can use the following lemma: Let $(x_n)_{n \\in \\mathbb{N}}$ be a monotonically increasing sequence of real numbers which is bounded from above. Then $(x_n)_{n \\in \\mathbb{N}}$. converges and $\\underset{n \\rightarrow \\infty}{\\lim}x_n = \\sup \\{ x_n \\; | \\; n \\in \\mathbb{N} \\}$.*"
   ]
  },
  {
   "cell_type": "markdown",
   "metadata": {},
   "source": [
    "As discussed in part (b), the first condition for Scott-continuity, namely completeness, is fulfilled by the ordering $\\leq$. To show that every monotonic and topologically-continuous function $f: [a,b] \\rightarrow [c,d]$ is Scott-continuous, we thus have to show that $f(\\sqcup S) = \\sqcup \\{ f(d) \\; | \\; d \\in S \\}$ for every chain $S$ in $D_1$.\n",
    "\n",
    "Let us consider an arbitrary interval $M = [i, j] \\subseteq [a, b]$. Since $[i, j]$ is complete, we can create a monotonically increasing sequence $S = (x_n)_{n \\in \\mathbb{N}}$ from $M$, where $x_0 = i$ and $x_n < x_{n+1}$ for all $n > 0, n \\in \\mathbb{N}$. As $S \\subseteq [i, j]$, the sequence is bounded from above by $j$; we can thus apply the given lemma, based on which\n",
    "\n",
    "\\begin{align*}\n",
    "    &\\underset{n \\rightarrow \\infty}{\\lim}x_n = \\sup S = \\sup \\{ x_n \\; | \\; n \\in \\mathbb{N} \\} = j \\\\\n",
    "    &\\implies f(\\sup S) = f(j)\n",
    "\\end{align*}\n",
    "\n",
    "Let us now construct a sequence $S' = f(x_n)_{n \\in \\mathbb{N}}$ from $S$. Since $f$ is monotonic, we know that $f(x_n) \\leq f(x_{n+1}) \\leq f(j)$ for every $x_n \\in S$; thus, it follows that\n",
    "\n",
    "\\begin{equation*}\n",
    "    \\underset{n \\rightarrow \\infty}{\\lim}f(x_n) = \\sup S' = \\sup \\{ f(x_n) \\; | \\; n \\in \\mathbb{N} \\} = f(j)\n",
    "\\end{equation*}\n",
    "\n",
    "This means that $f(\\sqcup S) = \\sqcup \\{ f(d) \\; | \\; d \\in S \\}$ for any $S$, which is what we wanted to show. $\\square$"
   ]
  },
  {
   "cell_type": "markdown",
   "metadata": {},
   "source": [
    "d) *Let $a, b, c, d \\in \\mathbb{R}$. Prove or disprove that any Scott-continuous function $f: [a, b] \\rightarrow [c, d]$ is topologically-continuous.*"
   ]
  },
  {
   "cell_type": "markdown",
   "metadata": {},
   "source": [
    "Not every Scott-continuous function $f: [a, b] \\rightarrow [c, d]$ is topologically-continuous. To show that, let us consider as an example the following function $f$, which is defined on the interval $[a, b]$:\n",
    "\n",
    "\\begin{equation*}\n",
    "    f(x) = \\left\\{\n",
    "        \\begin{array}{ll}\n",
    "            x^2, & x \\in [a, k) \\\\\n",
    "            0.5 + x^2, & x \\in [k, b]\n",
    "        \\end{array}\n",
    "    \\right.\n",
    "\\end{equation*}\n",
    "\n",
    "A visualisation of the function is shown below:\n",
    "\n",
    "![discontinuous_function_example](discontinuous_function.png)\n",
    "\n",
    "This function is not topologically continuous on the interval $[a, b]$ since it has a discontinuity at $k$; however, $f$ is Scott-continuous on $[a, b]$. For instance, let us take an interval $M = [i, k] \\subseteq [a, b]$ and create a monotonically increasing sequence $S = (x_n)_{n \\in \\mathbb{N}}$ from $M$ just as in part (c). For this interval, we have $\\sup S = k$ and $f(\\sup S) = f(k) = \\sup \\{ f(x_n) \\; | \\; n \\in \\mathbb{N} \\}$. This holds for any chain $S$ in $[a, b]$.\n",
    "\n",
    "As this example shows, Scott continuity is not a sufficient condition for topological continuity. $\\square$"
   ]
  }
 ],
 "metadata": {
  "kernelspec": {
   "display_name": "Haskell",
   "language": "haskell",
   "name": "haskell"
  },
  "language_info": {
   "codemirror_mode": "ihaskell",
   "file_extension": ".hs",
   "name": "haskell",
   "pygments_lexer": "Haskell",
   "version": "8.6.4"
  }
 },
 "nbformat": 4,
 "nbformat_minor": 2
}
