{
 "cells": [
  {
   "cell_type": "markdown",
   "metadata": {},
   "source": [
    "# Functional Programming SS19\n",
    "\n",
    "# Assignment 05 Solutions"
   ]
  },
  {
   "cell_type": "markdown",
   "metadata": {},
   "source": [
    "### Exercise 1 (Fixpoints)\n",
    "\n",
    "*Consider the function $ee : (\\mathbb{Z}_{\\bot} \\rightarrow \\mathbb{B}_{\\bot}) \\rightarrow (\\mathbb{Z}_{\\bot} \\rightarrow \\mathbb{B}_{\\bot})$, which is defined as follows:*\n",
    "\n",
    "\\begin{equation*}\n",
    "    (ee(g))(x) = \\left\\{\n",
    "        \\begin{array}{ll}\n",
    "            True & \\text{if } x = 0 \\\\\n",
    "            \\lnot g(x-1) & \\text{if } x > 0 \\\\\n",
    "            \\lnot g(x+1) & \\text{if } x < 0 \\\\\n",
    "            \\bot_{\\mathbb{B}_{\\bot}} & \\text{if } x = \\bot_{\\mathbb{Z}_{\\bot}}\n",
    "        \\end{array}\n",
    "    \\right.\n",
    "\\end{equation*}\n",
    "\n",
    "*The function $ee$ is continuous. Thus, by Kleene’s Fixpoint Theorem it has a least fixpoint. This least fixpoint of $ee$ is a well-known function. What is the least fixpoint of $ee$? Prove your claim!*\n",
    "\n",
    "***Hints***:\n",
    "* *We have $\\lnot \\bot_{\\mathbb{B}_{\\bot}} = \\bot_{\\mathbb{B}_{\\bot}}$. Thus, the function $\\lnot$ is monotonic and also continuous.*\n",
    "* *If the cases $x > 0$ and $x < 0$ are analogous, then it sufficies to prove one case and note the analogy.*"
   ]
  },
  {
   "cell_type": "markdown",
   "metadata": {},
   "source": [
    "The least fixpoint of $ee$ is the function that returns $True$ if $x$ is an even number and $False$ otherwise, namely the function $f : \\mathbb{Z}_{\\bot} \\rightarrow \\mathbb{B}_{\\bot}$ such that\n",
    "\n",
    "\\begin{equation*}\n",
    "    f(x) = \\left\\{\n",
    "        \\begin{array}{ll}\n",
    "            True & \\text{if } x = 0 \\\\\n",
    "            \\lnot f(x-1) & \\text{if } x > 0 \\\\\n",
    "            \\lnot f(x+1) & \\text{if } x < 0 \\\\\n",
    "            \\bot_{\\mathbb{B}_{\\bot}} & \\text{if } x = \\bot_{\\mathbb{Z}_{\\bot}}\n",
    "        \\end{array}\n",
    "    \\right.\n",
    "\\end{equation*}\n",
    "\n",
    "To prove this, we can use Kleene's Fixpoint Theorem (Theorem 2.1.17 from the lecture notes), according to which the least fixpoint of a function $f$ is the function $\\operatorname{lfp} f = \\sqcup \\{ f^{i}(\\bot) \\; | \\; i \\in \\mathbb{N} \\}$ provided that $\\sqsubseteq$ is a cpo on $D$ and $f : D \\rightarrow D$ is continuous.\n",
    "\n",
    "Let us show that $\\sqcup \\{ ee^{i}(\\bot) \\; | \\; i \\in \\mathbb{N} \\} = f$ by induction. In the base case, we have $ee^{0}(\\bot) = \\bot$ and $ee^{1}(\\bot) = f(\\bot)$. Let's now assume that $ee^{i}(\\bot) = f$ and show that $e^{i+1}(\\bot) = f$ as well (which is equivalent to $ee(f) = f$). We have four cases to consider now depending on the value of $x$:\n",
    "\n",
    "* $x = 0$: In this case, we have:\n",
    "\\begin{align*}\n",
    "    ee^{i+1}(\\bot)(0) &= ee(ee^{i}(\\bot))(0) \\\\\n",
    "    &= (ee(f))(0) \\text{ -- due to the inductive hypothesis} \\\\\n",
    "    &= True \\\\\n",
    "    &= f(0)\n",
    "\\end{align*}\n",
    "\n",
    "* $x > 0$: We now have\n",
    "\\begin{align*}\n",
    "    ee^{i+1}(\\bot)(x) &= ee(ee^{i}(\\bot))(x) \\\\\n",
    "    &= (ee(f))(x) \\text{ -- due to the inductive hypothesis} \\\\\n",
    "    &= \\lnot f(x-1)\n",
    "\\end{align*}\n",
    "where $f(x-1)$ is $True$ if $x - 1$ is even and $False$ otherwise. Since odd and even numbers are alternating, we can easily see that $\\lnot f(x-1)$ gives the correct result for $x$.\n",
    "\n",
    "* $x < 0$: The case for negative integers is analogous to the case for positive integers since negative odd and even numbers are alternating as well. Since $f(x + 1)$ is $True$ if $x + 1$ is even and $False$ otherwise, we can see that $(ee(f))(x)$ gives the correct result for negative $x$ as well.\n",
    "\n",
    "* $x = \\bot$: $(ee(f))(\\bot) = \\bot = f(\\bot)$\n",
    "\n",
    "We can thus see that $ee^{i+1}(\\bot)(x) = f(x)$, which means that $f$ is indeed a fixpoint of $ee$. In addition, this is the only fixpoint of $ee$, so it is also its least fixpoint. $\\square$"
   ]
  },
  {
   "cell_type": "markdown",
   "metadata": {},
   "source": [
    "## Exercise 2 (Continuity and Fixpoints)\n",
    "\n",
    "*In this exercise, we will prove that for any real number $0 < r \\leq 1$ we have*\n",
    "\n",
    "\\begin{equation*}\n",
    "    \\underset{n \\rightarrow \\infty}{\\lim}f^{n}(r) = \\underset{n \\text{ times}}{f(f(...f(r)...))} = 1\n",
    "\\end{equation*}\n",
    "\n",
    "*where $f: [0, \\infty) \\rightarrow \\mathbb{R}$, $x \\mapsto \\sqrt{x}$. In this exercise you can use that $f$ is topological–continuous (cf. Exercise Sheet 4, Ex. 4), i.e., for any converging sequence $(x_n)_{n \\in \\mathbb{N}}$ in $[0, \\infty)$ we have $\\underset{n \\rightarrow \\infty}{\\lim}f(x_n) = f(\\underset{n \\rightarrow \\infty}{\\lim}x_n)$. In each of the following parts you can use the results of Exercise Sheet 4, Ex. a)-c).*"
   ]
  },
  {
   "cell_type": "markdown",
   "metadata": {},
   "source": [
    "a) *Prove that $f$ is monotonic w.r.t. $\\leq$, i.e. if $0 \\leq x \\leq y$, then $f(x) \\leq f(y)$*.\n",
    "\n",
    "***Hints***:\n",
    "* *You can use that if $0 \\leq x \\leq y$ then $x^2 \\leq y^2$*\n",
    "* *You can also use that for every $0 \\leq z$ we have $\\left(\\sqrt{z}\\right)^2 = z$ and $\\left(\\sqrt{z^2}\\right) = z$.*"
   ]
  },
  {
   "cell_type": "markdown",
   "metadata": {},
   "source": [
    "Let us take two arbitrary values $x$ and $y$, such that $x, y \\in [0, \\infty), x \\leq y$ and suppose that $f$ is not monotonic, i.e. $f(x) > f(y)$.\n",
    "\n",
    "We now have\n",
    "\n",
    "\\begin{align*}\n",
    "    0 \\leq x \\leq y &\\implies x^2 \\leq y^2 \\\\\n",
    "    &\\implies \\sqrt{x^2} > \\sqrt{y^2} \\text{ (due to the non-monotonicity assumption)} \\\\\n",
    "    &\\implies x > y \\text{ (due to the fact that } \\sqrt{x^2} = x \\text{ and } \\sqrt{y^2} = y \\text{)}\n",
    "\\end{align*}\n",
    "\n",
    "This however contradicts our initial assumption that $x \\leq y$; thus, $f$ must be monotonic. $\\square$"
   ]
  },
  {
   "cell_type": "markdown",
   "metadata": {},
   "source": [
    "b) *Let $0 < r \\leq 1$. Prove that $f_r : [r, 1] \\rightarrow [r, 1]$, $x \\mapsto \\sqrt{x}$ is well-defined, i.e. if $r \\leq x \\leq 1$, then $r \\leq \\sqrt{x} \\leq 1$*"
   ]
  },
  {
   "cell_type": "markdown",
   "metadata": {},
   "source": [
    "Let us take an $x$ such that $r \\leq x \\leq 1$:\n",
    "\n",
    "\\begin{align*}\n",
    "    &\\implies \\sqrt{r} \\leq \\sqrt{x} \\leq \\sqrt{1} \\text{ (due to monotonicity)} \\\\\n",
    "    &\\implies \\sqrt{r} \\leq \\sqrt{x} \\leq 1\n",
    "\\end{align*}\n",
    "\n",
    "Let us now show that $r \\leq \\sqrt{r}$. In particular, let us assume that $\\sqrt{r} < r$:\n",
    "\n",
    "\\begin{align*}\n",
    "    &\\implies 1 < \\frac{r}{\\sqrt{r}} \\\\\n",
    "    &\\implies \\sqrt{r} \\leq \\sqrt{x} \\leq 1 < \\frac{r}{\\sqrt{r}} \\\\\n",
    "    &\\implies \\left(\\sqrt{r}\\right)^2 \\leq \\sqrt{x}\\sqrt{r} \\leq \\sqrt{r} < r \\text{ (multiplying through by} \\sqrt{r} \\text{)} \\\\\n",
    "    &\\implies r \\leq \\sqrt{x}\\sqrt{r} \\leq \\sqrt{r} < r\n",
    "\\end{align*}\n",
    "\n",
    "This implies that $r < r$, which clearly cannot hold. As a result, it must hold that $r \\leq \\sqrt{r}$ and consequently\n",
    "\n",
    "\\begin{align*}\n",
    "    &r \\leq \\sqrt{r} \\leq \\sqrt{x} \\leq 1 \\\\\n",
    "    &\\implies r \\leq \\sqrt{x} \\leq 1\n",
    "\\end{align*}\n",
    "\n",
    "which is what we wanted to show. $\\square$"
   ]
  },
  {
   "cell_type": "markdown",
   "metadata": {},
   "source": [
    "c) *Let $0 < r \\leq 1$. Use a), b) and Ex. 4 a)-c) from Exercise Sheet 4 to conclude that $f_r$ is Scott-continuous for any $0 < r \\leq 1$. You can use that if $(x_n)_{n \\in \\mathbb{N}}$ is a converging sequence in $[r, 1]$, then $\\underset{n \\rightarrow \\infty}{\\lim}x_n \\in [r, 1]$, too.*"
   ]
  },
  {
   "cell_type": "markdown",
   "metadata": {},
   "source": [
    "From part b), we know that $f_r$ is a monotonic function and, furthermore, since $f$ is topologically-continuous, $f_r$ is topologically-continuous as well. From Ex. 4c) in Exercise Sheet 4, we know that every monotonic and topologically-continuous function is also Scott-continuous; thus, it follows that $f_r$ is Scott-continuous.\n",
    "\n",
    "We can also prove this directly by taking an arbitrary subset $[i, j] \\subseteq [r, 1]$ and creating a sequence $S = (x_n)_{n \\in \\mathbb{N}}$, $x_n \\in [i, j]$. $S$ is bounded above by $r$, so we have that\n",
    "\n",
    "\\begin{equation*}\n",
    "    \\underset{n \\rightarrow \\infty}{\\lim}x_n = \\sup S = j \\implies f_r(\\sup S) = f_r(j)\n",
    "\\end{equation*}\n",
    "\n",
    "Let us now also construct a sequence $S' = f_r(x_n)_{n \\in \\mathbb{N}}$ from $S$. Due to the monotonicity of $f_r$, we know that $f(x_n) \\leq f(x_{n+1})$ for every $x_n \\in S$; thus\n",
    "\n",
    "\\begin{equation*}\n",
    "    \\underset{n \\rightarrow \\infty}{\\lim}f(x_n) = \\sup S' = f_r(j)\n",
    "\\end{equation*}\n",
    "\n",
    "where the last equality follows from the fact that $f_r$ is continuous. Thus, $f_r(\\sqcup S) = \\sqcup S'$ for any $S$, which means that $f_r$ is Scott-continuous. $\\square$"
   ]
  },
  {
   "cell_type": "markdown",
   "metadata": {},
   "source": [
    "d) *Use Kleene's Fixpoint theorem and Ex. 4 a) from Exercise Sheet 4 to conclude that for each $0 < r \\leq 1$, $\\underset{n \\rightarrow \\infty}{\\lim}f^{n}(r) = 1$.*"
   ]
  },
  {
   "cell_type": "markdown",
   "metadata": {},
   "source": [
    "From part c), we know that $f_r$ is Scott-continuous on $[r, 1]$, and thus $f$ is Scott-continuous on $[r, 1]$. From Ex. 4a in Exercise Sheet 4, we also know that $\\leq$ is complete for any closed interval $[a, b]$; thus, $\\leq$ is complete on $[r, 1]$.\n",
    "\n",
    "The conditions of Kleene's Fixpoint theorem are fulfilled and, as a result, $\\operatorname{lfp} f = \\sqcup \\{ f^{i}(\\bot) \\; | \\; i \\in \\mathbb{N} \\}$. In our case, $r$ is the smallest element, so we have that $\\operatorname{lfp} f = \\sqcup \\{ f^{i}(r) \\; | \\; i \\in \\mathbb{N} \\}$.\n",
    "\n",
    "But since $f_r$ maps values from $[r, 1]$ to $[r, 1]$ and due to the completeness of $[r, 1]$, we have that for the chain $S = \\{ f^{i}(r) \\; | \\; i \\in \\mathbb{N} \\}$, $\\sqcup S = 1$.\n",
    "\n",
    "Since $f_r$ is monotonic, we also have that $f_r^{i}, i \\in \\mathbb{N}$ is monotonic (short proof: based on the definition of monotonicity, we know that if $x \\leq y$, then $f_r(x) \\leq f_r(y)$, but then it also follows that $f_r(f_r(x)) \\leq f_r(f_r(y))$).\n",
    "\n",
    "But based on part c), due to the monotonicity, we have $\\sup S = \\underset{n \\rightarrow \\infty}{\\lim}f^{n}(r) = 1$, which is what we wanted to show. $\\square$"
   ]
  },
  {
   "cell_type": "markdown",
   "metadata": {},
   "source": [
    "## Exercise 3 (Fixpoints and Higher Order Functions)\n",
    "\n",
    "*Consider the following Haskell functions:*\n",
    "\n",
    "```\n",
    "fact :: Int -> Int\n",
    "fact = \\x -> if x <= 0 then 1 else fact (x-1) * x\n",
    "\n",
    "true :: Bool -> Bool\n",
    "true = \\x -> True\n",
    "\n",
    "neg_inf :: Int -> Int\n",
    "neg_inf = \\x -> neg_inf (x-3)\n",
    "\n",
    "fib :: Int -> Int\n",
    "fib = \\n -> if n <= 1 then 1 else fib (n - 1) + fib (n - 2)\n",
    "```\n",
    "\n",
    "*The higher-order Haskell function `f_fact` corresponding to `fact` is*\n",
    "\n",
    "```\n",
    "f_fact = \\g -> \\x -> if x <= 0 then 1 else g (x-1) * x\n",
    "```\n",
    "\n",
    "*The semantics $\\phi_{f\\_{fact}}$ of `f_fact` is:*\n",
    "\n",
    "\\begin{equation*}\n",
    "    (\\varphi_{f\\_fact}(g))(x) = \\left\\{\n",
    "        \\begin{array}{ll}\n",
    "            1 & \\text{if } x \\leq 0 \\\\\n",
    "            g(x-1) \\cdot x & \\text{otherwise}\n",
    "        \\end{array}\n",
    "    \\right.\n",
    "\\end{equation*}\n",
    "\n",
    "*The semantics $\\phi_{fact}$ of `fact` is the least fixpoint of $\\phi_{f\\_fact}$ (where for all $x \\leq 0$ we define $x! = 1$):*\n",
    "\n",
    "\\begin{equation*}\n",
    "    \\varphi_{fact}(x) = \\left\\{\n",
    "        \\begin{array}{ll}\n",
    "            x! & \\text{if } x \\in \\mathbb{Z} \\\\\n",
    "            \\bot & \\text{otherwise}\n",
    "        \\end{array}\n",
    "    \\right.\n",
    "\\end{equation*}"
   ]
  },
  {
   "cell_type": "markdown",
   "metadata": {},
   "source": [
    "a) *Give the Haskell definitions for the higher-order functions `f_true`, `f_neg_inf`, and `f_fib` corresponding to `true`, `neg_inf`, and `fib`*."
   ]
  },
  {
   "cell_type": "markdown",
   "metadata": {},
   "source": [
    "The definitions of the functions are given below:\n",
    "\n",
    "```\n",
    "f_true = \\g -> \\x -> True\n",
    "\n",
    "f_neg_inf = \\g -> \\x -> g (x - 3)\n",
    "\n",
    "f_fib = \\g -> \\n -> if n <= 1 then 1 else g(n - 1) + g(n - 2)\n",
    "```"
   ]
  },
  {
   "cell_type": "markdown",
   "metadata": {},
   "source": [
    "b) *Give the semantics $\\phi_{f\\_true}$, $\\phi_{f\\_neg\\_inf}$, and $\\phi_{f\\_fib}$ of the functions `f_true`, `f_neg_inf`, and `f_fib`.*"
   ]
  },
  {
   "cell_type": "markdown",
   "metadata": {},
   "source": [
    "The functions have the following semantics:\n",
    "\n",
    "\\begin{equation*}\n",
    "    (\\phi_{f\\_true}(g))(x) = True\n",
    "\\end{equation*}\n",
    "\n",
    "\\begin{equation*}\n",
    "    (\\phi_{f\\_neg\\_inf}(g))(x) = \\left\\{\n",
    "        \\begin{array}{ll}\n",
    "            g(x - 3) & \\text{if } x \\in \\mathbb{Z} \\\\\n",
    "            \\bot & \\text{otherwise}\n",
    "        \\end{array}\n",
    "    \\right.\n",
    "\\end{equation*}\n",
    "\n",
    "\\begin{equation*}\n",
    "    (\\phi_{f\\_fib}(g))(n) = \\left\\{\n",
    "        \\begin{array}{ll}\n",
    "            1 & \\text{if } x \\leq 1 \\\\\n",
    "            g(n-1) + g(n-2) & \\text{if } x > 1 \\\\\n",
    "            \\bot & \\text{otherwise}\n",
    "        \\end{array}\n",
    "    \\right.\n",
    "\\end{equation*}"
   ]
  },
  {
   "cell_type": "markdown",
   "metadata": {},
   "source": [
    "c) *What does the function $\\phi_f^n(\\bot)$ compute for $n \\in \\mathbb{N}$, $f \\in \\{$ `f_true`, `f_neg_inf`, `f_fib` $\\}$? Here, $\\phi_f^n(\\bot)$ denotes $n$ applications of $\\phi_f$ to the undefined function $\\bot$.*"
   ]
  },
  {
   "cell_type": "markdown",
   "metadata": {},
   "source": [
    "Since $(\\phi_{f\\_true}(g))(x)$ returns $True$ for every argument, the result of $\\phi_{f\\_true}^n(\\bot)$ is $True$ for any $n \\in \\mathbb{N}$.\n",
    "\n",
    "For $\\phi_{f\\_neg\\_inf}^n(\\bot)$, we have\n",
    "\n",
    "\\begin{align*}\n",
    "    \\phi_{f\\_neg\\_inf}^0(\\bot)(x) &= \\bot \\\\\n",
    "    \\phi_{f\\_neg\\_inf}^1(\\bot)(x) &= \\left\\{\n",
    "        \\begin{array}{ll}\n",
    "            \\bot(x-3) & \\text{if } x \\in \\mathbb{Z} \\\\\n",
    "            \\bot & \\text{otherwise}\n",
    "        \\end{array}\n",
    "    \\right. = \\left\\{\n",
    "        \\begin{array}{ll}\n",
    "            \\bot & \\text{if } x \\in \\mathbb{Z} \\\\\n",
    "            \\bot & \\text{otherwise}\n",
    "        \\end{array}\n",
    "    \\right. = \\bot \\\\\n",
    "\\end{align*}\n",
    "\n",
    "namely $\\phi_{f\\_neg\\_inf}^n(\\bot) = \\bot$ for any $n \\in \\mathbb{N}$.\n",
    "\n",
    "For $\\phi_{f\\_fib}^n(\\bot)$, we have\n",
    "\n",
    "\\begin{align*}\n",
    "    g_0(n) &= \\phi_{f\\_fib}^0(\\bot)(x) = \\bot \\\\\n",
    "    g_1(n) &= \\phi_{f\\_fib}^1(\\bot)(x) = \\left\\{\n",
    "        \\begin{array}{ll}\n",
    "            1 & \\text {if } x \\leq 1 \\\\\n",
    "            \\bot(n-1) + \\bot(n-2) & \\text{if } x > 1 \\\\\n",
    "            \\bot & \\text{otherwise}\n",
    "        \\end{array}\n",
    "    \\right. = \\left\\{\n",
    "        \\begin{array}{ll}\n",
    "            1 & \\text {if } x \\leq 1 \\\\\n",
    "            \\bot & \\text{if } x > 1 \\\\\n",
    "            \\bot & \\text{otherwise}\n",
    "        \\end{array}\n",
    "    \\right. \\\\\n",
    "    g_2(n) &= \\phi_{f\\_fib}^2\\left(g_1\\right) = \\left\\{\n",
    "        \\begin{array}{ll}\n",
    "            1 & \\text {if } x \\leq 1 \\\\\n",
    "            g_1(n-1) + g_1(n-2) & \\text{if } x > 1 \\\\\n",
    "            \\bot & \\text{otherwise}\n",
    "        \\end{array}\n",
    "    \\right. = \\left\\{\n",
    "        \\begin{array}{ll}\n",
    "            1 & \\text {if } x \\leq 1 \\\\\n",
    "            2 & \\text{if } x = 2 \\\\\n",
    "            \\bot & \\text{if } x > 2 \\\\\n",
    "            \\bot & \\text{otherwise}\n",
    "        \\end{array}\n",
    "    \\right. \\\\\n",
    "    g_3(n) &= \\phi_{f\\_fib}^3\\left( g_2 \\right) = \\left\\{\n",
    "        \\begin{array}{ll}\n",
    "            1 & \\text {if } x \\leq 1 \\\\\n",
    "            g_2(n-1) + g_2(n-2) & \\text{if } x > 1 \\\\\n",
    "            \\bot & \\text{otherwise}\n",
    "        \\end{array}\n",
    "    \\right. = \\left\\{\n",
    "        \\begin{array}{ll}\n",
    "            1 & \\text {if } x \\leq 1 \\\\\n",
    "            2 & \\text {if } x = 2 \\\\\n",
    "            3 & \\text {if } x = 3 \\\\\n",
    "            \\bot & \\text{if } x > 3 \\\\\n",
    "            \\bot & \\text{otherwise}\n",
    "        \\end{array}\n",
    "    \\right.\n",
    "\\end{align*}\n",
    "\n",
    "namely $\\phi_{f\\_fib}^n(\\bot)$ produces a sequence of increasingly better approximations to the Fibonacci sequence."
   ]
  },
  {
   "cell_type": "markdown",
   "metadata": {},
   "source": [
    "d) *Give all fixpoints of the semantic functions $\\phi_{f\\_true}$, $\\phi_{f\\_neg\\_inf}$, and $\\phi_{f\\_fib}$ from b). Which ones are the least fixpoints?*"
   ]
  },
  {
   "cell_type": "markdown",
   "metadata": {},
   "source": [
    "$\\phi_{f\\_true}$ has a single fixpoint, namely the constant function that always returns $True$; this is thus also the least fixpoint of $\\phi_{f\\_true}$.\n",
    "\n",
    "$\\phi_{f\\_neg\\_inf}$ has as fixpoints all constant functions $f : \\mathbb{Z}_{\\bot} \\rightarrow \\mathbb{Z}_{\\bot}$; the least fixpoint is the constant function $\\bot_{\\mathbb{Z} \\rightarrow \\mathbb{Z}}$.\n",
    "\n",
    "$\\phi_{f\\_fib}$ has a single fixpoint, namely the function that computes the Fibonacci sequence for any $n \\in \\mathbb{N}$ and returns $\\bot$ otherwise; this function is therefore the least fixpoint of $\\phi_{f\\_fib}$."
   ]
  },
  {
   "cell_type": "markdown",
   "metadata": {},
   "source": [
    "## Exercise 4 (Domain Lifts)\n",
    "\n",
    "*Let $D_1, ..., D_n$ be domains with complete partial orders $\\sqsubseteq_{D_1}, ..., \\sqsubseteq_{D_n}$.*"
   ]
  },
  {
   "cell_type": "markdown",
   "metadata": {},
   "source": [
    "a) *Prove that $\\sqsubseteq_{D_1 \\bigoplus ... \\bigoplus D_n}$ is a complete partial order on $D_1 \\bigoplus ... \\bigoplus D_n$*."
   ]
  },
  {
   "cell_type": "markdown",
   "metadata": {},
   "source": [
    "According to definition 2.1.12, $\\sqsubseteq_{D_1 \\bigoplus ... \\bigoplus D_n}$ is complete if $D = D_1 \\bigoplus ... \\bigoplus D_n$ has a smallest element $\\bot_{D_1 \\bigoplus ... \\bigoplus D_n}$ and there is a least upper bound $\\sqcup S \\in D_1 \\bigoplus ... \\bigoplus D_n$ for every chain in $D_1 \\bigoplus ... \\bigoplus D_n$. The existence of a $\\bot_{D_1 \\bigoplus ... \\bigoplus D_n}$ is guaranteed by the definition of a coalesced sum (definition 2.2.2). Furthermore, as a consequence of definition 2.2.2, a chain $S \\in D$ can contain $\\bot_{D}$ and elements of only one domain $D_i$, $1 \\leq i \\leq n$; hence, provided that every $D_i$ is a complete partial order, $D$ will also be a complete partial order. $\\square$"
   ]
  },
  {
   "cell_type": "markdown",
   "metadata": {},
   "source": [
    "b) *Prove that for any $1 \\leq k \\leq n$ the embedding*\n",
    "\n",
    "\\begin{equation*}\n",
    "    l_k: D_k \\rightarrow D_1 \\bigoplus ... \\bigoplus D_n, \\; x \\mapsto \\left\\{\n",
    "        \\begin{array}{ll}\n",
    "            \\bot_{D_1 \\bigoplus ... \\bigoplus D_n}, & x = \\bot_{D_k} \\\\\n",
    "            x^{D_k}, & \\text{otherwise}\n",
    "        \\end{array}\n",
    "    \\right.\n",
    "\\end{equation*}\n",
    "\n",
    "*is continuous.*"
   ]
  },
  {
   "cell_type": "markdown",
   "metadata": {},
   "source": [
    "Based on definition 2.1.14, $l_k: D_k \\rightarrow D_1 \\bigoplus ... \\bigoplus D_n$ is continuous if and only if, for every chain $S$ of $D_k$, we have $l_k(\\sqcup S) = \\sqcup \\{ l_k(d) \\; | \\; d \\in S \\}$, provided that $D_k$ and $D_1 \\bigoplus ... \\bigoplus D_n$ is complete, such that the completeness of $D_1 \\bigoplus ... \\bigoplus D_n$ was established in part a).\n",
    "\n",
    "Since $D_k$ is complete, we know that it has a smallest element $\\bot_{D_k}$ and every chain $S$ has a least upper bound $\\sqcup S \\in D_k$ (definition 2.1.12). The given $l_k$ acts as an identity operator based on which each element $x \\in D_k$ is mapped to itself, except that the result lies in the domain of the coalesced sum instead of in $D_k$; in particular, for every chain $S = {d_{k,1}, d_{k,2}...}$, we have\n",
    "\n",
    "\\begin{equation*}\n",
    "    l_k(S) = \\{ l_k(d_{k,1}), l_k(d_{k,2}), ... \\}_{D_k} = \\{ d_{k,1}, d_{k_2}, ... \\}_{D_1 \\bigoplus ... \\bigoplus D_n}\n",
    "\\end{equation*}\n",
    "\n",
    "Since the identity operator is continuous, it follows that $l_k$ is also continuous for every $1 \\leq k \\leq n$. $\\square$"
   ]
  },
  {
   "cell_type": "markdown",
   "metadata": {},
   "source": [
    "c) *Let $f: D_1 \\bigoplus ... \\bigoplus D_n \\rightarrow D$ be a monotonic function, where $D$ is some domain with cpo $\\sqsubseteq_D$. Prove that $f$ is continuous if $f \\circ l_k : D_k \\rightarrow D$ is continuous for every $1 \\leq k \\leq n$.*"
   ]
  },
  {
   "cell_type": "markdown",
   "metadata": {},
   "source": [
    "For any chain $S \\in D_k$, we have\n",
    "\n",
    "\\begin{align*}\n",
    "    l_k(S) &= \\{ l_k(d_{k,1}), l_k(d_{k,2}), ... \\}_{D_1 \\bigoplus ... \\bigoplus D_n} \\\\\n",
    "    &\\implies (f(l_k))(S) = \\{ f(l_k(d_{k,1})), f(l_k(d_{k,2})), ... \\}_D\n",
    "\\end{align*}\n",
    "\n",
    "Since $f \\circ l_k: D_k \\rightarrow D = f(l_k)$ is continuous for every $1 \\leq k \\leq n$, we have $(f(l_k))(\\sqcup S) = \\sqcup \\{ (f(l_k))(d) \\; | \\; d \\in S \\}$ for every chain $S$ in $D_k$. But since $l_k(d) = d^{D_k}$, we can define a chain $S' = \\{ d_{k,1}, d_{k,2}, ... \\}_{D_1 \\bigoplus ... \\bigoplus D_n}$ and\n",
    "\n",
    "\\begin{equation*}\n",
    "    f(S') = \\{ f(d_{k,1}), f(d_{k,2}), ... \\}\n",
    "\\end{equation*}\n",
    "\n",
    "As $f$ is monotonic, we have that $f(d_{k,1}) \\sqsubseteq f(d_{k,2}) \\sqsubseteq ...$. But $l_k$ is continuous (and also monotonic since it does not change the definedness of the arguments) and we have that $\\sqcup S_{D_k} = \\sqcup S'_{D_1 \\bigoplus ... \\bigoplus D_n}$, so\n",
    "\n",
    "\\begin{align*}\n",
    "    f(\\sqcup S) = \\sqcup \\{ (f(l_k))(d) \\; | \\; d \\in S \\} = \\sqcup \\{ f(d) \\; | \\; d \\in S' \\} = f(\\sqcup S')\n",
    "\\end{align*}\n",
    "\n",
    "which is what we wanted to show. $\\square$"
   ]
  },
  {
   "cell_type": "markdown",
   "metadata": {},
   "source": [
    "## Exercise 5 (Domain Construction)\n",
    "\n",
    "*Consider the following data type declaration for natural numbers:*\n",
    "\n",
    "```\n",
    "data Nats = Zero | Succ Nats\n",
    "```\n",
    "\n",
    "*A graphical representation of the first four levels of the domain for `Nats` could look like this:*\n",
    "\n",
    "![nats_domain](nats_domain.png)\n",
    "\n",
    "*Now consider the following data type declarations:*\n",
    "\n",
    "```\n",
    "data Unit = U ()\n",
    "data Foo = A Unit Unit | B Bool\n",
    "```"
   ]
  },
  {
   "cell_type": "markdown",
   "metadata": {},
   "source": [
    "a) *Give a graphical representation of the whole domain for the type `Foo`. The graphical representation must be a directed graph, as in the example, and must contain all elements of `Foo`.*"
   ]
  },
  {
   "cell_type": "markdown",
   "metadata": {},
   "source": [
    "The domain of the type `Foo` is depicted below:\n",
    "\n",
    "![foo_domain](foo_domain.png)"
   ]
  },
  {
   "cell_type": "markdown",
   "metadata": {},
   "source": [
    "b) *Give Haskell expressions that correspond to the following elements of the domains for the type `Foo` and the type `Unit` respectively, i.e., for each of these elements, give a Haskell expression that has this element as its semantics:*\n",
    "\n",
    "* $A \\; \\bot \\; \\bot$\n",
    "* $U \\; \\bot$"
   ]
  },
  {
   "cell_type": "markdown",
   "metadata": {},
   "source": [
    "Let us define a bottom element as `bot = bot` as in the lecture. Then, the following two expressions have the semantics of the above two elements of the domains of `Foo` and `Unit` respectively:\n",
    "\n",
    "* `a = A bot bot` has the semantics $A \\; \\bot \\; \\bot$\n",
    "* `b = U bot` has the semantics $U \\; \\bot$"
   ]
  },
  {
   "cell_type": "markdown",
   "metadata": {},
   "source": [
    "c) *Consider the following Haskell functions:*\n",
    "\n",
    "```\n",
    "a :: (Integer, Integer) -> Integer\n",
    "a (k, n) = if k <= 0 then n+1 else if n <= 0 then a(k-1,1) else a(k-1, a(k, n-1))\n",
    "\n",
    "u :: Bool -> Unit\n",
    "u b = if (not b) then U () else u b\n",
    "\n",
    "f :: Bool -> Bool\n",
    "f b = f b\n",
    "```\n",
    "\n",
    "*What is the semantics of the following Haskell expressions?*\n",
    "\n",
    "* `B (f False)`"
   ]
  },
  {
   "cell_type": "markdown",
   "metadata": {},
   "source": [
    "Let $exp = B (f \\; False) = B \\; exp'$. We then have $Val[\\![ exp ]\\!]_{\\rho} = Val[\\![ B \\; exp' ]\\!]_{\\rho} = g$ *in* Functions *in* Dom, where $g(exp') = (B, exp')$ *in* Constructions$_1$ *in* Dom.\n",
    "\n",
    "Since $exp'$ is an expression, we need to find the semantics $d$ of $exp'$ to fully determine the semantics of `exp`. In this case, we have $d = Val[\\![ exp']\\!]_{\\rho} = Val[\\![ f \\; False ]\\!]_{\\rho} = h(Val[\\![ False ]\\!]_{\\rho})$ for $h$ *in* Functions *in* Dom, where $h(x) = \\bot, x \\in \\mathbb{B}_{\\bot}$.\n",
    "\n",
    "As $False$ is a constructor of zero arity, we know that $Val[\\![ False ]\\!]_{\\rho} = False$ *in* Constructions$_0$ *in* Dom.\n",
    "\n",
    "The semantics of $exp$ is thus finally $Val[\\![ exp]\\!]_{\\rho} = g(h(False)) = (B, h(False)) = (B, \\bot)$."
   ]
  },
  {
   "cell_type": "markdown",
   "metadata": {},
   "source": [
    "* `A (u (f False)) (u False)`"
   ]
  },
  {
   "cell_type": "markdown",
   "metadata": {},
   "source": [
    "As above, let $exp = A \\; (u \\; (f \\; False)) \\; (u \\; False) = A \\; exp' \\; exp''$. Thus, $Val[\\![ exp ]\\!]_{\\rho} = g$ *in* Functions *in* Dom such that $g(exp', exp'') = (A, exp', exp'')$ *in* Constructions$_2$ *in* Dom.\n",
    "\n",
    "We can now find the semantics of $exp'$ and $exp''$ as follows:\n",
    "\n",
    "$Val[\\![ exp']\\!]_{\\rho} = Val[\\![ u \\; (f \\; False) ]\\!]_{\\rho} = l(Val[\\![ f \\; False ]\\!]_{\\rho})$ for $l$ *in* Functions *in* Dom (where $d = Val[\\![ f \\; False ]\\!]_{\\rho} = \\bot$ as in part a)), such that\n",
    "\n",
    "\\begin{equation*}\n",
    "    l(x) = \\left\\{\n",
    "        \\begin{array}{ll}\n",
    "            U \\; () & \\text{if } x \\; = \\; False \\\\\n",
    "            \\bot & \\text{otherwise}\n",
    "        \\end{array}\n",
    "    \\right.\n",
    "\\end{equation*}\n",
    "\n",
    "Using the semantics $d$ from part a), we have that $Val[\\![ exp']\\!]_{\\rho} = l(\\bot) = \\bot$.\n",
    "\n",
    "On the other hand, $Val[\\![ exp'']\\!]_{\\rho} = \\mathcal{Val}[\\![ u \\; False ]\\!]_{\\rho} = l(Val[\\![ False ]\\!]_{\\rho}) = l(False) = U \\; ()$, where $l$ is as defined above.\n",
    "\n",
    "The semantics of $exp$ is thus $Val[\\![ exp ]\\!]_{\\rho} = g(\\bot, U \\; ()) = (A, \\bot, U \\; ())$."
   ]
  },
  {
   "cell_type": "markdown",
   "metadata": {},
   "source": [
    "* `let g = \\n -> a (3, n) < 3 in A (U ()) (u (g 2))`"
   ]
  },
  {
   "cell_type": "markdown",
   "metadata": {},
   "source": [
    "In this case, we have\n",
    "\n",
    "\\begin{align*}\n",
    "    &Val[\\![ let \\; g \\; = \\; \\setminus n \\; -> \\; a \\; (3, \\; n) \\; < \\; 3 \\; in \\; A \\; (U \\; ()) \\; (u \\; (g \\; 2)) ]\\!]_{\\rho} \\\\\n",
    "    &= Val[\\![ A \\; (U \\; ()) \\; (u \\; (g \\; 2)) ]\\!]_{\\rho}\\left( \\rho + \\{ g / \\operatorname{lfp} f \\} \\right) \\\\\n",
    "    &= (A, exp', exp'') \\textit{ in } \\text{Constructions}_1 \\textit{ in } \\text{Dom}\n",
    "\\end{align*}\n",
    "\n",
    "where\n",
    "\n",
    "\\begin{align*}\n",
    "    f(d) &= Val[\\![ \\setminus n \\; -> a \\; (3, \\; n) \\; < \\; 3 ]\\!]\\left( \\rho + \\{ g / d \\} \\right) = Val[\\![ \\setminus n \\; -> a \\; (3, \\; n) \\; < \\; 3 ]\\!]_{\\rho} \\\\\n",
    "    Val[\\![ exp' ]\\!] &= Val[\\![ U \\; () ]\\!] = (U, ()) \\textit{ in } \\text{Constructions}_1 \\textit{ in } \\text{Dom} \\\\\n",
    "    Val[\\![ exp'' ]\\!] &= Val[\\![ u \\; (g \\; 2) ]\\!] = l(Val[\\![ (g \\; 2) ]\\!]) \\textit{ in } \\text{Functions}_1 \\textit{ in } \\text{Dom}\n",
    "\\end{align*}\n",
    "    \n",
    "We can subsequently find that $a(3, 2) = 29$; thus $Val[\\![ g \\; 2 ]\\!] = False$ and $Val[\\![ u \\; (g \\; 2) ]\\!] = U \\; ()$, so\n",
    "\n",
    "\\begin{align*}\n",
    "    &Val[\\![ A \\; (U \\; ()) \\; (u \\; (g \\; 2)) ]\\!]_{\\rho}\\left( \\rho + \\{ g / \\operatorname{lfp} f \\} \\right) = (A, U \\; (), U \\; ())\n",
    "\\end{align*}"
   ]
  }
 ],
 "metadata": {
  "kernelspec": {
   "display_name": "Haskell",
   "language": "haskell",
   "name": "haskell"
  },
  "language_info": {
   "codemirror_mode": "ihaskell",
   "file_extension": ".hs",
   "name": "haskell",
   "pygments_lexer": "Haskell",
   "version": "8.6.4"
  }
 },
 "nbformat": 4,
 "nbformat_minor": 2
}
