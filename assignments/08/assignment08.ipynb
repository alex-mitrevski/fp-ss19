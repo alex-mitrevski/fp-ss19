{
 "cells": [
  {
   "cell_type": "markdown",
   "metadata": {},
   "source": [
    "# Functional Programming SS19\n",
    "\n",
    "# Assignment 08 Solutions"
   ]
  },
  {
   "cell_type": "markdown",
   "metadata": {},
   "source": [
    "### Exercise 1 ($\\beta\\delta-Reduction$)\n",
    "\n",
    "*Recall the notation of \"$\\delta$-reduction\", which is defined as follows*:\n",
    "\n",
    "*A set $\\delta$ of rules of the form $ct_1 ... t_n \\rightarrow r$ with $c \\in C, t_1, ..., t_n, r \\in \\Lambda$ is called a delta-rule if*\n",
    "\n",
    "1. *$t_1, ..., t_n, r$ are closed lambda terms*\n",
    "\n",
    "2. *all $t_i$ are in $\\rightarrow_{\\beta}$-normal form*\n",
    "\n",
    "3. *the $t_i$ do not contain any left-hand side of a rule from $\\delta$*\n",
    "\n",
    "4. *in $\\delta$ there exist no two different rules $ct_1 ... t_n \\rightarrow r$ and $ct_1 ... t_m \\rightarrow r'$ with $m \\geq n$*\n",
    "\n",
    "*For such a set $\\delta$ we define the relation $\\rightarrow_{\\delta}$ as the smallest relation with*\n",
    "\n",
    "* *$l \\rightarrow_{\\delta} r$ for all $l \\rightarrow r \\in \\delta$*\n",
    "* *if $t_1 \\rightarrow_{\\delta} t_2$ then also $(t_1 \\; r) \\rightarrow_{\\delta} (t_2 \\; r)$, $(r \\; t_1) \\rightarrow_{\\delta} (r \\; t_2)$, and $\\lambda y.t_1 \\rightarrow_{\\delta} \\lambda y.t_2$ for all $r \\in \\Lambda, y \\in V$*.\n",
    "\n",
    "*We denote the combination of $\\beta$- and $\\delta$-reduction by $\\rightarrow_{\\beta\\delta}$, i.e. $\\rightarrow_{\\beta\\delta} = \\rightarrow_{\\beta} \\cup \\rightarrow_{\\delta}$.*\n",
    "\n",
    "*The four conditions (1), (2), (3), (4) are required in order to ensure that $\\rightarrow_{\\beta\\delta}$ is confluent. Now assume that we replace condition (4) by the following condition*:\n",
    "\n",
    "&nbsp;&nbsp;&nbsp;&nbsp;&nbsp;&nbsp;&nbsp;&nbsp; *in $\\delta$ there exist no two different rules $ct_1 ... t_n \\rightarrow r$ and $ct_1 ... t_m \\rightarrow r'$ with $m \\geq n$ and $r \\neq r'$*.\n",
    "\n",
    "*Would $\\rightarrow_{\\beta\\delta}$ still be confluent? Please explain your answer*."
   ]
  },
  {
   "cell_type": "markdown",
   "metadata": {},
   "source": [
    "A $\\rightarrow_{\\beta\\delta}$ reduction with the modified condition (4) is not confluent in general. In particular, the modified condition allows rules $ct_1 ... t_n \\rightarrow r$ and $ct_1 ... t_m \\rightarrow r$ with $m \\geq n$; depending on the evaluation strategy, this might lead to a terminating reduction sequence when applying one of the rules, but a non-terminating reduction when applying another rule.\n",
    "\n",
    "To show this, let us consider an example in which we have the following rules in $\\delta$:\n",
    "\n",
    "\\begin{align*}\n",
    "    \\text{1: } &\\text{c} \\; \\text{True} \\rightarrow \\lambda x.x \\\\\n",
    "    \\text{2: } &\\text{c} \\; \\text{True} \\; \\text{False} \\rightarrow \\lambda x.x\n",
    "\\end{align*}\n",
    "\n",
    "If we then need to reduce the expression $\\text{exp} = \\text{c} \\; \\text{True} \\; (\\lambda y.y \\; y)(\\lambda y.y \\; y)$), the reduction using rule 1 terminates since the resulting term is in weak head normal order:\n",
    "\n",
    "\\begin{align*}\n",
    "    \\text{c} \\; \\text{True} \\; (\\lambda y.y \\; y)(\\lambda y.y \\; y) \\\\\n",
    "    \\rightarrow_{\\delta_1} (\\lambda x.x) (\\lambda y.y \\; y)(\\lambda y.y \\; y)\n",
    "\\end{align*}\n",
    "\n",
    "On the other hand, the reduction using rule 2 does not terminate since the term $(\\lambda y.y \\; y)(\\lambda y.y \\; y)$ has to be reduced for the rule to be applied, but the $\\beta$-reduction on it does not terminate.\n",
    "\n",
    "---\n",
    "\n",
    "The modified condition may however be confluent in some cases. As another example, let us consider the following rules in $\\delta$:\n",
    "\n",
    "\\begin{align*}\n",
    "    \\text{1: } &\\text{c} \\; \\text{True} \\rightarrow \\text{True} \\\\\n",
    "    \\text{2: } &\\text{c} \\; \\text{True} \\; \\text{True} \\rightarrow \\text{True} \\\\\n",
    "    \\text{3: } &\\text{True} \\; \\text{True} \\rightarrow \\text{True}\n",
    "\\end{align*}\n",
    "\n",
    "If we need to reduce $\\text{exp} = \\text{c} \\; \\text{True} \\; \\text{True}$, the reduction rule 1 results in $\\text{True} \\; \\text{True}$, which can then be reduced to $\\text{True}$ by applying rule 3. Similarly, applying rule 2 on $\\text{exp}$ results in $\\text{True}$. In this case, both rules can be reduced to the same expression."
   ]
  },
  {
   "cell_type": "markdown",
   "metadata": {},
   "source": [
    "### Exercise 2 (Weak Head Normal Order Reduction)\n",
    "\n",
    "*For each of the following terms please show the reduction steps of the WHNO-reduction with the $\\rightarrow_{\\beta\\delta}$-relation up to weak head normal form. In each step, please indicate whether it is a $\\rightarrow_{\\beta}$- or $\\rightarrow_{\\delta}$-step. Also indicate if the reduction stops because no more $\\beta\\delta$-reduction is possible or if it stops only because the term is already in WHNO. Note that `Nil`, `Cons`, and `False` are constructors. Here the set $\\delta$ contains the following rules:*\n",
    "\n",
    "\\begin{align*}\n",
    "    \\text{if} \\; \\text{False} &\\rightarrow \\lambda x y.y \\\\\n",
    "    \\text{gt} \\; 22 \\; 23 &\\rightarrow \\text{False} \\\\\n",
    "    \\text{mult} \\; 4 \\; 2 &\\rightarrow 8 \\\\\n",
    "    \\text{isa}_{\\text{Cons}} \\; \\text{Nil} &\\rightarrow \\text{False}\n",
    "\\end{align*}\n",
    "\n",
    "*a) $(\\lambda x.\\text{mult} \\; x \\; 2) \\; (\\text{if} \\; (\\text{gt} \\; 22 \\; 23) \\; 1 \\; 4)$*"
   ]
  },
  {
   "cell_type": "markdown",
   "metadata": {},
   "source": [
    "\\begin{align*}\n",
    "    (\\lambda x.\\text{mult} \\; x \\; 2) \\; (\\text{if} \\; (\\text{gt} \\; 22 \\; 23) \\; 1 \\; 4) &\\rightarrow_{\\beta} \\text{mult} \\; (\\text{if} \\; (\\text{gt} \\; 22 \\; 23) \\; 1 \\; 4) \\; 2 \\\\\n",
    "    &\\rightarrow_{\\delta} \\text{mult} \\; (\\text{if} \\; \\text{False} \\; 1 \\; 4) \\; 2 \\\\\n",
    "    &\\rightarrow_{\\delta} \\text{mult} \\; ((\\lambda x \\; y.y) \\; 1 \\; 4) \\; 2 \\\\\n",
    "    &\\rightarrow_{\\beta} \\text{mult} \\; ((\\lambda x \\; y.y) \\; 1 \\; 4) \\; 2 \\\\\n",
    "    &\\rightarrow_{\\beta} \\text{mult} \\; ((\\lambda y.y) \\; 4) \\; 2 \\\\\n",
    "    &\\rightarrow_{\\beta} \\text{mult} \\; 4 \\; 2 \\\\\n",
    "    &\\rightarrow_{\\delta} 8\n",
    "\\end{align*}\n",
    "\n",
    "The term is in WHNO at this point, so the reduction stops."
   ]
  },
  {
   "cell_type": "markdown",
   "metadata": {},
   "source": [
    "*b) $(\\lambda x \\; y.x \\; y) \\; ((\\lambda z.\\text{mult} \\; 4 \\; z) \\; 2)$*"
   ]
  },
  {
   "cell_type": "markdown",
   "metadata": {},
   "source": [
    "\\begin{align*}\n",
    "    (\\lambda x \\; y.x \\; y) \\; ((\\lambda z.\\text{mult} \\; 4 \\; z) \\; 2) \\rightarrow_{\\beta} \\lambda y.((\\lambda z.\\text{mult} \\; 4 \\; z) \\; 2) \\; y\n",
    "\\end{align*}\n",
    "\n",
    "This term is already in WHNO, so the reduction stops even though additional $\\beta\\delta$-reduction steps are possible."
   ]
  },
  {
   "cell_type": "markdown",
   "metadata": {},
   "source": [
    "*c) $(\\lambda z.\\text{if} \\; (\\text{isa}_{Cons} \\; z) \\; \\text{Nil} \\; (\\text{Cons} \\; ((\\lambda x.\\text{mult} \\; 4 \\; x) \\; 2) \\; \\text{Nil})) \\; \\text{Nil}$*"
   ]
  },
  {
   "cell_type": "markdown",
   "metadata": {},
   "source": [
    "\\begin{align*}\n",
    "    (\\lambda z.\\text{if} \\; (\\text{isa}_{Cons} \\; z) \\; \\text{Nil} \\; (\\text{Cons} \\; ((\\lambda x.\\text{mult} \\; 4 \\; x) \\; 2) \\; \\text{Nil})) \\; \\text{Nil} &\\rightarrow_{\\beta} \\text{if} \\; (\\text{isa}_{Cons} \\; \\text{Nil}) \\; \\text{Nil} \\; (\\text{Cons} \\; ((\\lambda x.\\text{mult} \\; 4 \\; x) \\; 2) \\; \\text{Nil}) \\\\\n",
    "    &\\rightarrow_{\\delta} \\text{if} \\; (\\text{False}) \\; \\text{Nil} \\; (\\text{Cons} \\; ((\\lambda x.\\text{mult} \\; 4 \\; x) \\; 2) \\; \\text{Nil}) \\\\\n",
    "    &\\rightarrow_{\\delta} (\\lambda x \\; y.y) \\; (\\text{Nil} \\; (\\text{Cons} \\; ((\\lambda x.\\text{mult} \\; 4 \\; x) \\; 2) \\; \\text{Nil})) \\\\\n",
    "    &\\rightarrow_{\\beta} (\\lambda y.y) \\; (\\text{Cons} \\; ((\\lambda x.\\text{mult} \\; 4 \\; x) \\; 2) \\; \\text{Nil}) \\\\\n",
    "    &\\rightarrow_{\\beta} \\text{Cons} \\; ((\\lambda x.\\text{mult} \\; 4 \\; x) \\; 2) \\; \\text{Nil}\n",
    "\\end{align*}\n",
    "\n",
    "At this point, there are no additional $\\beta\\delta$-reduction steps possible since $\\text{Cons}$ is a constructor, so the term is in WHNO."
   ]
  },
  {
   "cell_type": "markdown",
   "metadata": {},
   "source": [
    "### Exercise 3 (Simple Haskell to Lambda Calculus)\n",
    "\n",
    "*Please translate the following Haskell-expression into a lambda term using $\\mathcal{L}am$:*\n",
    "\n",
    "```\n",
    "let length = \\zs -> if isa_Nil zs then\n",
    "                      0\n",
    "                      else\n",
    "                      1 + length (sel_2,2 (argof_Cons zs))\n",
    "in length Nil\n",
    "```\n",
    "\n",
    "*Hint: If you want, you can write `(plus x y)` instead of `(x + y)`, `i` instead of `isa_Nil`, etc.*"
   ]
  },
  {
   "cell_type": "markdown",
   "metadata": {},
   "source": [
    "Let $\\text{exp} = \\backslash\\text{zs -> if isa\\_Nil zs then 0 else 1 + length (sel\\_2,2 (argof\\_Cons zs))}$. We then have\n",
    "\n",
    "\\begin{align*}\n",
    "    &\\mathcal{L}am(\\text{let length = exp in length Nil}) \\\\\n",
    "    &= \\mathcal{L}am(\\text{length Nil})[\\text{length / fix}(\\lambda\\text{ length}.\\mathcal{L}am(\\text{exp}))]\n",
    "\\end{align*}\n",
    "\n",
    "We have that\n",
    "\n",
    "\\begin{align*}\n",
    "    \\mathcal{L}am(\\text{exp}) &= \\mathcal{L}am(\\backslash\\text{zs -> if isa\\_Nil zs then 0 else 1 + length (sel\\_2,2 (argof\\_Cons zs))}) \\\\\n",
    "    &= \\lambda \\text{ zs}.\\mathcal{L}am(\\text{if isa\\_Nil zs then 0 else 1 + length (sel\\_2,2 (argof\\_Cons zs))}) \\\\\n",
    "    &= \\lambda \\text{ zs}.(\\text{if }\\mathcal{L}am(\\text{isa\\_Nil zs}) \\; \\mathcal{L}am(\\text{0}) \\; \\mathcal{L}am(\\text{1 + length (sel\\_2,2 (argof\\_Cons zs))})) \\\\\n",
    "    &= \\lambda \\text{ zs}.(\\text{if }(\\mathcal{L}am(\\text{isa\\_Nil}) \\; \\mathcal{L}am(\\text{zs})) \\; \\text{0} \\; \\mathcal{L}am(\\text{plus 1 length (sel\\_2,2 (argof\\_Cons zs))})) \\\\\n",
    "    &= \\lambda \\text{ zs}.(\\text{if }(\\text{isa\\_Nil} \\; \\text{zs}) \\; \\text{0} \\; (\\mathcal{L}am(\\text{plus 1}) \\; \\mathcal{L}am(\\text{length (sel\\_2,2 (argof\\_Cons zs))}))) \\\\\n",
    "    &= \\lambda \\text{ zs}.(\\text{if }(\\text{isa\\_Nil} \\; \\text{zs}) \\; \\text{0} \\; (\\mathcal{L}am(\\text{plus}) \\; \\mathcal{L}am(\\text{1}) \\; (\\mathcal{L}am(\\text{length}) \\; \\mathcal{L}am(\\text{sel\\_2,2 (argof\\_Cons zs))}))) \\\\\n",
    "    &= \\lambda \\text{ zs}.(\\text{if }(\\text{isa\\_Nil} \\; \\text{zs}) \\; \\text{0} \\; (\\text{plus} \\; \\text{1} \\; (\\text{length} \\; (\\mathcal{L}am(\\text{sel\\_2,2}) \\; \\mathcal{L}am(\\text{argof\\_Cons zs)})))) \\\\\n",
    "    &= \\lambda \\text{ zs}.(\\text{if }(\\text{isa\\_Nil} \\; \\text{zs}) \\; \\text{0} \\; (\\text{plus} \\; \\text{1} \\; (\\text{length} \\; (\\text{sel\\_2,2} \\; (\\mathcal{L}am(\\text{argof\\_Cons}) \\; \\mathcal{L}am(\\text{zs))})))) \\\\\n",
    "    &= \\lambda \\text{ zs}.(\\text{if }(\\text{isa\\_Nil} \\; \\text{zs}) \\; \\text{0} \\; (\\text{plus} \\; \\text{1} \\; (\\text{length} \\; (\\text{sel\\_2,2} \\; (\\text{argof\\_Cons} \\; \\text{zs)})))) \\\\\n",
    "    &= \\lambda \\text{ zs}.(\\text{if }\\text{isa\\_Nil} \\; \\text{zs} \\; \\text{0} \\; (\\text{plus} \\; \\text{1} \\; (\\text{length} \\; (\\text{sel\\_2,2} \\; (\\text{argof\\_Cons} \\; \\text{zs)}))))\n",
    "\\end{align*}\n",
    "\n",
    "Therefore,\n",
    "\n",
    "\\begin{align*}\n",
    "    &\\mathcal{L}am(\\text{let length = exp in length Nil}) \\\\\n",
    "    &= \\mathcal{L}am(\\text{length Nil})[\\text{length / fix}(\\lambda\\text{ length} \\, \\text{ zs}.(\\text{if }\\text{isa\\_Nil} \\; \\text{zs} \\; \\text{0} \\; (\\text{plus} \\; \\text{1} \\; (\\text{length} \\; (\\text{sel\\_2,2} \\; (\\text{argof\\_Cons} \\; \\text{zs)})))))] \\\\\n",
    "    &= (\\text{fix}(\\lambda\\text{ length} \\, \\text{ zs}.(\\text{if }\\text{isa\\_Nil} \\; \\text{zs} \\; \\text{0} \\; (\\text{plus} \\; \\text{1} \\; (\\text{length} \\; (\\text{sel\\_2,2} \\; (\\text{argof\\_Cons} \\; \\text{zs)})))))) \\; \\text{Nil}\n",
    "\\end{align*}\n",
    "\n",
    "Let us denote $(\\text{fix}(\\lambda\\text{ length} \\, \\text{ zs}.(\\text{if }\\text{isa\\_Nil} \\; \\text{zs} \\; \\text{0} \\; (\\text{plus} \\; \\text{1} \\; (\\text{length} \\; (\\text{sel\\_2,2} \\; (\\text{argof\\_Cons} \\; \\text{zs)}))))))$ by $\\text{r}$. Using this notation, we can, for completeness, perform a $\\beta$-reduction to evaluate the expression:\n",
    "\n",
    "\\begin{align*}\n",
    "    &\\text{fix}(\\text{r}) \\; \\text{Nil} \\\\\n",
    "    &\\rightarrow_{\\delta} r \\; (\\text{fix}(\\text{r})) \\; \\text{Nil} \\\\\n",
    "    &\\rightarrow_{\\beta} (\\lambda \\text{ zs}.(\\text{if }\\text{isa\\_Nil} \\; \\text{zs} \\; \\text{0} \\; (\\text{plus} \\; \\text{1} \\; (\\text{fix}(\\text{r}) \\; (\\text{sel\\_2,2} \\; (\\text{argof\\_Cons} \\; \\text{zs)}))))) \\; \\text{Nil} \\\\\n",
    "    &\\rightarrow_{\\beta} \\text{if }\\text{isa\\_Nil} \\; \\text{Nil} \\; \\text{0} \\; (\\text{plus} \\; \\text{1} \\; (\\text{fix}(\\text{r}) \\; (\\text{sel\\_2,2} \\; (\\text{argof\\_Cons} \\; \\text{Nil})))\n",
    "\\end{align*}\n",
    "\n",
    "which evaluates to $0$ since $\\text{if }\\text{isa\\_Nil}$ evaluates to true."
   ]
  }
 ],
 "metadata": {
  "kernelspec": {
   "display_name": "Haskell",
   "language": "haskell",
   "name": "haskell"
  },
  "language_info": {
   "codemirror_mode": "ihaskell",
   "file_extension": ".hs",
   "name": "haskell",
   "pygments_lexer": "Haskell",
   "version": "8.6.4"
  }
 },
 "nbformat": 4,
 "nbformat_minor": 2
}
