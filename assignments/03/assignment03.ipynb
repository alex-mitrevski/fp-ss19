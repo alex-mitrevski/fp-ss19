{
 "cells": [
  {
   "cell_type": "markdown",
   "metadata": {},
   "source": [
    "# Functional Programming SS19\n",
    "\n",
    "# Assignment 03 Solutions"
   ]
  },
  {
   "cell_type": "markdown",
   "metadata": {},
   "source": [
    "## Exercise 1 (Lazy Evaluation)\n",
    "\n",
    "*In this exercise we will consider the \"Collatz conjecture\"$^{1}$ from mathematics. In this exercise you are allowed to use any predefined function from Haskell's module Prelude.*\n",
    "\n",
    "*Let the function $f: \\mathbb{N} \\mapsto \\mathbb{N}$ be defined as*\n",
    "\\begin{equation*}\n",
    "    n \\mapsto \\left\\{\n",
    "        \\begin{array}{ll}\n",
    "            \\frac{n}{2}, & n \\text{ mod } 2 = 0 \\\\\n",
    "            3 \\cdot n + 1, & n \\text{ mod } 2 = 1\n",
    "        \\end{array}\n",
    "    \\right.\n",
    "\\end{equation*}\n",
    "\n",
    "*For any $n, k \\in \\mathbb{N}$, let $f^{k}(n)$ denote $\\underbrace{f(...f(n)...)}_{k \\text { times}}$. The Collatz total stopping time of a positive natural number $n$ is defined to be the smallest $k \\in \\mathbb{N}$ such that $f^{k}(n) = 1$ and $\\infty$ otherwise. For example, the Collatz total stopping time of 1 is 0 (since $f^{0}(1) = 1$), the Collatz stopping time of 2 is 1 (since $f^{0}(2) = 2, f^{1}(2) = 1$) and the Collatz total stopping time of 3 is 7. The Collatz conjecture states that any positive natural number has a finite Collatz total stopping time. This conjecture is a famous open problem.*\n",
    "\n",
    "________________________\n",
    "\n",
    "$^{1} $https://en.wikipedia.org/wiki/Collatz_conjecture"
   ]
  },
  {
   "cell_type": "markdown",
   "metadata": {},
   "source": [
    "### 1a)\n",
    "\n",
    "*Implement a function `collatz :: Int -> [Int]` such that for any positive natural number $n$ the expression `collatz n` is the infinite list with kth entry $f^{k}(n)$. This function may behave arbitrarily on non-positive inputs.*\n",
    "\n",
    "*Furthermore implement a function `total_stopping_time :: Int -> Int`. For any positive natural number $n$ the function computes its Collatz total stopping time. This function may behave arbitrarily on non-positive inputs.*\n",
    "\n",
    "**Hints**\n",
    "\n",
    "* *The predefined function `takeWhile :: (a -> Bool) -> [a] -> [a]` computes the shortest pre-fix of the list where the first argument of `takeWhile` is true for every list element.*\n",
    "* *The predefined function `div :: Int -> Int -> Int` computes integer division, the predefined function `mod :: Int -> Int -> Int` implements the modulo operation from mathematics.*"
   ]
  },
  {
   "cell_type": "code",
   "execution_count": 7,
   "metadata": {},
   "outputs": [],
   "source": [
    "f :: Int -> Int\n",
    "f n | m == 0 = n `div` 2\n",
    "    | otherwise = 3 * n + 1\n",
    "    where m = n `mod` 2\n",
    "\n",
    "collatz :: Int -> [Int]\n",
    "collatz n | n <= 0 = []\n",
    "          | otherwise = n : collatz r\n",
    "          where r = f n\n",
    "\n",
    "total_stopping_time :: Int -> Int\n",
    "total_stopping_time n = length (takeWhile (/= 1) (collatz n))"
   ]
  },
  {
   "cell_type": "markdown",
   "metadata": {},
   "source": [
    "#### Test cases"
   ]
  },
  {
   "cell_type": "code",
   "execution_count": 8,
   "metadata": {},
   "outputs": [
    {
     "data": {
      "text/plain": [
       "0"
      ]
     },
     "metadata": {},
     "output_type": "display_data"
    }
   ],
   "source": [
    "-- the first test case in the exercise description\n",
    "total_stopping_time 1"
   ]
  },
  {
   "cell_type": "code",
   "execution_count": 9,
   "metadata": {
    "scrolled": true
   },
   "outputs": [
    {
     "data": {
      "text/plain": [
       "1"
      ]
     },
     "metadata": {},
     "output_type": "display_data"
    }
   ],
   "source": [
    "-- the second test case in the exercise description\n",
    "total_stopping_time 2"
   ]
  },
  {
   "cell_type": "code",
   "execution_count": 10,
   "metadata": {},
   "outputs": [
    {
     "data": {
      "text/plain": [
       "7"
      ]
     },
     "metadata": {},
     "output_type": "display_data"
    }
   ],
   "source": [
    "-- the third test case in the exercise description\n",
    "total_stopping_time 3"
   ]
  },
  {
   "cell_type": "code",
   "execution_count": 17,
   "metadata": {},
   "outputs": [
    {
     "data": {
      "text/plain": [
       "16"
      ]
     },
     "metadata": {},
     "output_type": "display_data"
    }
   ],
   "source": [
    "-- another test case\n",
    "total_stopping_time 7"
   ]
  },
  {
   "cell_type": "code",
   "execution_count": 18,
   "metadata": {},
   "outputs": [
    {
     "data": {
      "text/plain": [
       "19"
      ]
     },
     "metadata": {},
     "output_type": "display_data"
    }
   ],
   "source": [
    "-- yet another test case\n",
    "total_stopping_time 9"
   ]
  },
  {
   "cell_type": "markdown",
   "metadata": {},
   "source": [
    "### 1b)\n",
    "\n",
    "*Implement a function `check_collatz :: Int -> Bool`. For any positive natural number $n$ the function returns `True` if the Collatz conjecture holds for the first $n$ positive natural numbers. If the input $n$ is not positive or the conjecture does not hold for the first $n$ positive numbers, then the function may behave arbitrarily.*"
   ]
  },
  {
   "cell_type": "code",
   "execution_count": 4,
   "metadata": {},
   "outputs": [],
   "source": [
    "check_collatz :: Int -> Bool\n",
    "check_collatz n | n <= 0 = True\n",
    "                | otherwise = (total_stopping_time n) < maxBound\n",
    "                               && check_collatz (n - 1)"
   ]
  },
  {
   "cell_type": "markdown",
   "metadata": {},
   "source": [
    "#### Test cases"
   ]
  },
  {
   "cell_type": "code",
   "execution_count": null,
   "metadata": {
    "scrolled": true
   },
   "outputs": [],
   "source": [
    "-- if the conjecture holds, the following\n",
    "-- line should never terminate\n",
    "takeWhile (==True) [check_collatz n | n <- [1..]]"
   ]
  },
  {
   "cell_type": "markdown",
   "metadata": {},
   "source": [
    "## Exercise 2 (List Comprehensions)\n",
    "\n",
    "*In this exercise you **may not** write auxiliary functions and you **may not** use `where` or `let`.*"
   ]
  },
  {
   "cell_type": "markdown",
   "metadata": {},
   "source": [
    "### 2a)\n",
    "\n",
    "*Consider the following definition for an infinite list containing all primes from the lecture:*\n",
    "\n",
    "```\n",
    "drop_mult :: Int -> [ Int ] -> [ Int ]\n",
    "drop_mult x xs = [ y | y <- xs , y `mod` x /= 0]\n",
    "\n",
    "dropall :: [ Int ] -> [ Int ]\n",
    "dropall ( x : xs ) = x : dropall ( drop_mult x xs )\n",
    "\n",
    "primes :: [ Int ]\n",
    "primes = dropall [2 ..]\n",
    "```\n",
    "\n",
    "*Write a function `goldbach :: Int -> [(Int,Int)]`$^{2}$ that returns a list of pairs indicating all possibilities to write a positive number as a sum of two odd primes. Each possibility up to permutation has to occur exactly once but the order of the pairs in the resulting list is irrelevant. For example, `goldbach 50 == [(3,47),(7,43),(13,37),(19,31)]`. Of course, `goldbach n == []`, whenever $n$ is odd and positive! For non-positive numbers, the function may behave arbitrarily. A famous open problem is whether there exists an even positive number $n$ with `goldbach n == []`.*\n",
    "\n",
    "*You may only use **one** defining equation and the right-hand side must be a single list comprehension.*\n",
    "\n",
    "**Hints**\n",
    "\n",
    "* *You may use the given functions `primes`, `drop_mult`, and `dropall` in addition to predefined functions in Haskell’s module Prelude.*\n",
    "* *Only test your implementation on relatively small numbers! Our implementation of primes is not the most efficient one.*\n",
    "\n",
    "_________________________\n",
    "\n",
    "$^{2}$ https://en.wikipedia.org/wiki/Goldbach’s_conjecture"
   ]
  },
  {
   "cell_type": "code",
   "execution_count": 5,
   "metadata": {
    "scrolled": true
   },
   "outputs": [],
   "source": [
    "---------------------------------------------------\n",
    "-- defined in the lecture notes\n",
    "---------------------------------------------------\n",
    "drop_mult :: Int -> [ Int ] -> [ Int ]\n",
    "drop_mult x xs = [ y | y <- xs , y `mod` x /= 0]\n",
    "\n",
    "dropall :: [ Int ] -> [ Int ]\n",
    "dropall ( x : xs ) = x : dropall ( drop_mult x xs )\n",
    "\n",
    "primes :: [ Int ]\n",
    "primes = dropall [2 ..]\n",
    "---------------------------------------------------\n",
    "\n",
    "goldbach :: Int -> [(Int,Int)]\n",
    "goldbach n | n < 0 || odd n = []\n",
    "           | otherwise = [(x,y) | x <- takeWhile (<=(n `div` 2)) primes,\n",
    "                                  y <- takeWhile (<=n) primes,\n",
    "                                  odd x, odd y, x + y == n]"
   ]
  },
  {
   "cell_type": "markdown",
   "metadata": {},
   "source": [
    "#### Test cases"
   ]
  },
  {
   "cell_type": "code",
   "execution_count": 6,
   "metadata": {},
   "outputs": [
    {
     "data": {
      "text/plain": [
       "[(3,47),(7,43),(13,37),(19,31)]"
      ]
     },
     "metadata": {},
     "output_type": "display_data"
    }
   ],
   "source": [
    "goldbach 50"
   ]
  },
  {
   "cell_type": "code",
   "execution_count": 7,
   "metadata": {},
   "outputs": [
    {
     "data": {
      "text/plain": [
       "[(3,97),(11,89),(17,83),(29,71),(41,59),(47,53)]"
      ]
     },
     "metadata": {},
     "output_type": "display_data"
    }
   ],
   "source": [
    "goldbach 100"
   ]
  },
  {
   "cell_type": "code",
   "execution_count": 8,
   "metadata": {},
   "outputs": [
    {
     "data": {
      "text/plain": [
       "[(3,997),(17,983),(23,977),(29,971),(47,953),(53,947),(59,941),(71,929),(89,911),(113,887),(137,863),(173,827),(179,821),(191,809),(227,773),(239,761),(257,743),(281,719),(317,683),(347,653),(353,647),(359,641),(383,617),(401,599),(431,569),(443,557),(479,521),(491,509)]"
      ]
     },
     "metadata": {},
     "output_type": "display_data"
    }
   ],
   "source": [
    "goldbach 1000"
   ]
  },
  {
   "cell_type": "markdown",
   "metadata": {},
   "source": [
    "### 2b)\n",
    "\n",
    "*Implement a function `range :: [a] -> Int -> Int -> [a]`. The expression `range xs m n` should yield the sublist of `xs` starting from the first element with an index >= m and ending with the last entry at an index <= n. The first entry has index 0, the last one has (length xs) - 1. For example, `range [3,4,5] 1 2 == [4,5]`, `range [3,4,5] (-7) 2 == [3,4,5]` and `range [3,4,5] 10 7 == []`.*\n",
    "\n",
    "*You may only use one defining equation and the right-hand side must be a single list comprehension.*\n",
    "\n",
    "*You may use any predefined functions in Haskell’s module Prelude **except** `take`, `drop`, `span`, `break`, `splitAt`, or variants$^3$ of these functions.*\n",
    "\n",
    "$^{3}$ like `takeWhile`, etc."
   ]
  },
  {
   "cell_type": "code",
   "execution_count": 9,
   "metadata": {},
   "outputs": [],
   "source": [
    "range :: [a] -> Int -> Int -> [a]\n",
    "range xs m n = [x | (i,x) <- (zip [0,1..] xs),\n",
    "                    i >= m, i <= n]"
   ]
  },
  {
   "cell_type": "markdown",
   "metadata": {},
   "source": [
    "#### Test cases"
   ]
  },
  {
   "cell_type": "code",
   "execution_count": 10,
   "metadata": {},
   "outputs": [
    {
     "data": {
      "text/plain": [
       "[4,5]"
      ]
     },
     "metadata": {},
     "output_type": "display_data"
    }
   ],
   "source": [
    "-- the first example from the exercise description\n",
    "range [3,4,5] 1 2"
   ]
  },
  {
   "cell_type": "code",
   "execution_count": 11,
   "metadata": {},
   "outputs": [
    {
     "data": {
      "text/plain": [
       "[3,4,5]"
      ]
     },
     "metadata": {},
     "output_type": "display_data"
    }
   ],
   "source": [
    "-- the second example from the exercise description\n",
    "range [3,4,5] (-7) 2"
   ]
  },
  {
   "cell_type": "code",
   "execution_count": 12,
   "metadata": {},
   "outputs": [
    {
     "data": {
      "text/plain": [
       "[]"
      ]
     },
     "metadata": {},
     "output_type": "display_data"
    }
   ],
   "source": [
    "-- the last example from the exercise description\n",
    "range [3,4,5] 10 7"
   ]
  },
  {
   "cell_type": "markdown",
   "metadata": {},
   "source": [
    "## Exercise 3 (IO)\n",
    "\n",
    "*In this exercise an interactive program simulating your personal library should be implemented.*\n",
    "\n",
    "*The library has a list books in which the books of the library are stored. A book is represented by a tuple `(title,author): (String,String)`. After displaying the welcome message, the library is still empty. Then an interactive loop starts where the user is prompted for input and the library reacts to it. If the user*\n",
    "* *enters `Book:title;author`, the user can choose to either put the book into the library (by entering the character `'p'`) or take it from the library (by entering the character `'t'`). If the book is to be taken but not contained in the library, an error message should be stated before starting from the beginning.*\n",
    "* *enters `Author:author`, all the books from this author are printed on the screen. Then the loop starts again.*\n",
    "* *enters `Title:title`, all the books with this title are printed on the screen. Then the loop starts again.*\n",
    "* *enters `Exit`, the loop terminates.*\n",
    "* *enters something else, an error message is shown and the loop starts again.*\n",
    "\n",
    "*After the interactive loop terminates, a goodbye message is displayed and the whole program terminates. A framework for the implementation is given in the file `library.hs`. Only edit the parts between the comments replace with implementation: and end replace. Do not change any other code.*\n",
    "\n",
    "**Hints**\n",
    "\n",
    "*To output a line of text use `putStrLn :: String -> IO ()`, to read a line use `getLine :: IO String`. Furthermore you may use `elem :: Eq a => a -> [a] -> Bool` for checking membership in a list.*\n",
    "\n",
    "**3a)** *Implement the function `main` that first displays a welcome message, then evaluates `library []` and then displays a goodbye message.*\n",
    "\n",
    "**3b)** *Implement the function `getInput` that displays a prompt >, then reads a line from standard input, and finally returns a LibraryInput computed from the just-read string using the given function `parseLibraryInput`.*\n",
    "\n",
    "**3c)** *Implement the function library. It should first ask the user for input using `getInput` and then take an appropriate action, depending on the input as described above.*"
   ]
  },
  {
   "cell_type": "code",
   "execution_count": 13,
   "metadata": {},
   "outputs": [],
   "source": [
    "import Data.Char\n",
    "\n",
    "data LibraryInput = Exit | Error String | Book (String, String) | Author String | Title String\n",
    "\n",
    "instance Show LibraryInput where\n",
    "  show Exit = \"Exit\"\n",
    "  show (Error xs) = \"Invalid Input: \" ++ xs\n",
    "  show (Book (title, author)) = \"Book: \" ++ title ++ \";\" ++ author\n",
    "  show (Author author) = \"Author: \" ++ author\n",
    "  show (Title title) = \"Title: \" ++ title\n",
    "\n",
    "trim :: String -> String\n",
    "trim = f . f\n",
    "   where f = reverse . dropWhile isSpace\n",
    "\n",
    "parseLibraryInput :: String -> LibraryInput\n",
    "parseLibraryInput input   | lhs == \"Book\" = Book ((trim (drop 1 title)), (trim (drop 1 author)))\n",
    "                          | lhs == \"Author\" = Author (trim (drop 1 rhs))\n",
    "                          | lhs == \"Title\" = Title (trim (drop 1 rhs))\n",
    "                          | elem (map toLower input) [\"q\", \"e\", \"exit\", \"quit\"] = Exit\n",
    "                          | otherwise = (Error input)\n",
    "                            where\n",
    "                              (lhs, rhs) = span (/= ':') (trim input)\n",
    "                              (title, author) = span (/= ';') (trim rhs)\n",
    "\n",
    "-- exercise:\n",
    "main :: IO ()\n",
    "main = do\n",
    "    -- task a)\n",
    "    -- replace with implementation:\n",
    "\n",
    "    putStrLn \"Welcome to your personal library!\"\n",
    "    library []\n",
    "    putStrLn \"Thanks for visiting. Have a nice day!\"\n",
    "    return ()\n",
    "\n",
    "    -- end replace\n",
    "\n",
    "library :: [(String,String)] -> IO ()\n",
    "library books =  do\n",
    "  -- task c)\n",
    "  -- replace with implementation:\n",
    "\n",
    "  input <- getInput\n",
    "  putStrLn (show input)\n",
    "  case input of\n",
    "    Book (t, a) -> do\n",
    "      putStrLn \"Do you want to (p)ut the book back or do you want to (t)ake the book?\"\n",
    "      book_input <- getLine\n",
    "      case book_input of\n",
    "        \"p\" ->\n",
    "          if (elem (t, a) books) then do\n",
    "            putStrLn \"You already have this book!\\n\"\n",
    "            library books\n",
    "          else do\n",
    "            putStrLn \"Done!\\n\"\n",
    "            library ((t, a) : books)\n",
    "        \"t\" ->\n",
    "          if not (elem (t, a) books) then do\n",
    "            putStrLn \"You do not have this book!\\n\"\n",
    "            library books\n",
    "          else do\n",
    "            putStrLn \"Done!\\n\"\n",
    "            library (filter (/= (t, a)) books)\n",
    "        otherwise -> do\n",
    "          putStrLn \"Wrong input!\\n\"\n",
    "          library books\n",
    "    Author a -> do\n",
    "      putStrLn (\"You have the following books from: \" ++ a)\n",
    "      putStrLn (concatMap (\\x -> show x ++ \"\\n\") [Book (t, a_name) |\n",
    "                                                   (t, a_name) <- books,\n",
    "                                                   a_name==a])\n",
    "      library books\n",
    "    Title t -> do\n",
    "      putStrLn (\"You have the following books with the title: \" ++ t)\n",
    "      putStrLn (concatMap (\\x -> show x ++ \"\\n\") [Book (t_name, a) |\n",
    "                                                    (t_name, a) <- books,\n",
    "                                                    t_name==t])\n",
    "      library books\n",
    "    Error xs -> library books\n",
    "    Exit -> return ()\n",
    "\n",
    "  -- end replace\n",
    "\n",
    "getInput :: IO LibraryInput\n",
    "getInput = do\n",
    "  -- task b)\n",
    "  putStrLn \"Would you like to put back or take a book?\\n Enter Book: Title's name; Author's name \\nAre you looking for an author?\\n Enter Author: Author's name \\nAre you looking for a special book?\\n Enter Title: Title's name.\"\n",
    "  -- task b)\n",
    "  -- replace with implementation:\n",
    "\n",
    "  putStr \"> \"\n",
    "  line <- getLine\n",
    "  input <- return (parseLibraryInput line)\n",
    "  return input\n",
    "\n",
    "  -- end replace"
   ]
  },
  {
   "cell_type": "markdown",
   "metadata": {},
   "source": [
    "**3d)** *Is it possible in Haskell to write a function `main' :: Int` that behaves similar to the function main but returns the number of books stored in the library when the loop was exited? Explain your answer either on the paper you hand in or as a comment in your solution of the programming exercises. You must not refer to predefined Haskell functions which are not included in the module Prelude.*"
   ]
  },
  {
   "cell_type": "markdown",
   "metadata": {},
   "source": [
    "Since the `library` function does not return its result directly, `main'` could only return the number of books if `library` is writing the library books to a file (e.g. using the `writeFile` function in *Prelude*); then, `main'` could read the list of books upon exiting the loop (e.g. using the `readFile` function in *Prelude*) and return the number."
   ]
  },
  {
   "cell_type": "markdown",
   "metadata": {},
   "source": [
    "## Exercise 4 (Definedness)\n",
    "\n",
    "a) *Consider the following values of the domain $(\\mathbb{Z}_{\\bot} \\times \\mathbb{B}_{\\bot}) \\times \\mathbb{Z}_{\\bot}$:*\n",
    "* *$y_1 = ((-1, \\text{False}), 0)$*\n",
    "* *$y_2 = ((-1, \\bot), 2)$*\n",
    "\n",
    "*Find all elements in the domain that are less defined than one of the values above, i.e., all $x$ such that $x \\sqsubseteq y_i \\land x \\neq y_i$ for some $i \\in \\{ 1, 2 \\}$.*\n",
    "\n",
    "*Draw a directed graph whose nodes are labeled with $y_1$, $y_2$ and all these values $x$. Add arrows in such a way that there is a path from $x'$ to $y'$ if and only if $x'$ is less defined than $y'$.*"
   ]
  },
  {
   "cell_type": "markdown",
   "metadata": {},
   "source": [
    "According to definition 2.1.1 from the lecture notes, given a base domain $D$, $d \\sqsubseteq d'$ for any $d, d' \\in D$ iff $d = \\bot$ or $d = d'$. Furthermore, according to Definition 2.1.2, $(d_1, ..., d_n) \\sqsubseteq (d_1', ..., d_n')$, where $D = D_1 \\times ... \\times D_n$, iff $d_i \\sqsubseteq d_i'$ for all $1 \\leq i \\leq n$. In this case, the domain is given as\n",
    "\n",
    "\\begin{equation*}\n",
    "    D = D_{1,2} \\times D_3 = (D_1 \\times D_2) \\times D_3\n",
    "\\end{equation*}\n",
    "\n",
    "The domain can however also be written as $D' = D_1 \\times D_2 \\times D_3$, which is isomorphic to $D^{1}$.\n",
    "\n",
    "A Hasse diagram illustrating the order of $(\\mathbb{Z}_{\\bot} \\times \\mathbb{B}_{\\bot}) \\times \\mathbb{Z}_{\\bot}$ for $y_1$ and $y_2$ is given below.\n",
    "\n",
    "![4a_hasse_diagram](figures/4a_hasse_diagram.png)\n",
    "\n",
    "[1] B. Milewski, \"Category Theory for Programmers\", ch. 7, pp. 74-75."
   ]
  },
  {
   "cell_type": "markdown",
   "metadata": {},
   "source": [
    "b) *Consider the domain $D = \\underbrace{\\mathbb{Z}_{\\bot} \\times ... \\times \\mathbb{Z}_{\\bot}}_{n \\text{ times}}$ for $0 < n \\in \\mathbb{N}$. A chain $S \\subseteq D$ is a totally ordered subset of $D$, i.e. if $x \\neq y \\in S$ then either $x \\sqsubseteq y$ or $y \\sqsubseteq x$. Determine*\n",
    "\n",
    "\\begin{equation*}\n",
    "    \\sup\\{ |S| \\; | \\; S \\subseteq D, S \\text{ is a chain} \\}\n",
    "\\end{equation*}\n",
    "\n",
    "*where $|S|$ is the number of elements in $S$. In other words, what is the maximal number of elements a chain in $D$ can have? Please prove the correctness of your answer.*"
   ]
  },
  {
   "cell_type": "markdown",
   "metadata": {},
   "source": [
    "Let us first consider some examples to obtain an intuition for the problem. Given $n = 1$, a maximal chain $S$ would be $S = \\{ \\bot, 0 \\}$; for $n = 2$, a maximal chain is $S = \\{ (\\bot, \\bot), (\\bot, 0), (0, 0) \\}$; for $n = 3$, a maximal chain would be $S = \\{ (\\bot, \\bot, \\bot), (\\bot, \\bot, 0), (\\bot, 0, 0), (0, 0, 0) \\}$, and so forth.\n",
    "\n",
    "*Theorem*: Given a domain $D = \\underbrace{Z_\\bot \\times ... \\times Z_\\bot}_{n \\text{ times}}$ such that $n > 0 \\in \\mathbb{N}$, the maximum number of elements a chain $S$ in $D$ can have is $n + 1$.\n",
    "\n",
    "*Proof*: Let $D = D_1 \\times ... \\times D_n$ and $S \\subseteq D$ be a chain, where $S = \\{ d_1, ..., d_k \\}$. Since we are interested in a maximal chain, $\\bot$ is always included in $S$, such that we will denote $d_1 = \\bot$. The highest element in a chain does not have $\\bot$ for any $D_i$, $1 \\leq i \\leq n$ and is also always included in $S$; we will let $d_k$ represent this element of the chain. For any other element $d_i$ in $S$, $\\bot$ can be included up to $n - 1$ times, such that, due to the fact that the chain is totally ordered, permutations of the elements of $d_i$ are not allowed in $S$. But since we are looking for a maximal chain, $d_i \\neq d_1 \\neq d_k$ represent all possible combinations of ordered pairs in which $\\bot$ appears at least once and at most $n - 1$ times. There are $n - 1$ such combinations; together with $d_1$ and $d_k$, there are a total of $n + 1$ elements in $S$, which is the maximum cardinality $S$ can have. $\\square$."
   ]
  }
 ],
 "metadata": {
  "kernelspec": {
   "display_name": "Haskell",
   "language": "haskell",
   "name": "haskell"
  },
  "language_info": {
   "codemirror_mode": "ihaskell",
   "file_extension": ".hs",
   "name": "haskell",
   "pygments_lexer": "Haskell",
   "version": "8.6.4"
  }
 },
 "nbformat": 4,
 "nbformat_minor": 2
}
